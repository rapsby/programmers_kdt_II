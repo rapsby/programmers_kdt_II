{
 "cells": [
  {
   "cell_type": "markdown",
   "metadata": {},
   "source": [
    "# 2. 파이썬으로 데이터 주무르기, pandas\n",
    "**pandas를 활용해서 데이터프레임을 다뤄봅시다.**"
   ]
  },
  {
   "cell_type": "markdown",
   "metadata": {},
   "source": [
    "1. Pandas 시작하기\n",
    "    - prerequisite : Table\n",
    "    - pandas import하기\n",
    "   \n",
    "2. Pandas로 1차원 데이터 다루기 - Series \n",
    "    - Series 선언하기\n",
    "    - Series vs ndarray\n",
    "    - Series vs dict\n",
    "    - Series에 이름 붙이기\n",
    "3. Pandas로 2차원 데이터 다루기 - dataframe\n",
    "    - dataframe 선언하기\n",
    "    - from csv to dataframe\n",
    "    - dataframe 자료 접근하기\n",
    "\n",
    "[수업에 사용된 covid 데이터](https://www.kaggle.com/imdevskp/corona-virus-report)"
   ]
  },
  {
   "cell_type": "markdown",
   "metadata": {},
   "source": [
    "## I. pandas 시작하기"
   ]
  },
  {
   "cell_type": "markdown",
   "metadata": {},
   "source": [
    "## II. pandas로 1차원 데이터 다루기 - Series"
   ]
  },
  {
   "cell_type": "markdown",
   "metadata": {},
   "source": [
    "## III. Pandas로 2차원 데이터 다루기 - dataframe"
   ]
  },
  {
   "cell_type": "markdown",
   "metadata": {},
   "source": [
    "## Mission:\n",
    "### 1. covid 데이터에서 100 case 대비 사망률(`Deaths / 100 Cases`)이 가장 높은 국가는?"
   ]
  },
  {
   "cell_type": "code",
   "execution_count": 12,
   "metadata": {},
   "outputs": [
    {
     "output_type": "execute_result",
     "data": {
      "text/plain": [
       "Country/Region                   Zimbabwe\n",
       "Confirmed                         4290259\n",
       "Deaths                             148011\n",
       "Recovered                         1846641\n",
       "Active                            2816444\n",
       "New cases                           56336\n",
       "New deaths                           1076\n",
       "New recovered                       33728\n",
       "Deaths / 100 Cases                  28.56\n",
       "Recovered / 100 Cases                 100\n",
       "Deaths / 100 Recovered                inf\n",
       "Confirmed last week               3834677\n",
       "1 week change                      455582\n",
       "1 week % increase                  226.32\n",
       "WHO Region                Western Pacific\n",
       "dtype: object"
      ]
     },
     "metadata": {},
     "execution_count": 12
    }
   ],
   "source": [
    "import pandas as pd\n",
    "covid = pd.read_csv('country_wise_latest.csv')\n",
    "covid_max_Deaths_100Cases = covid.max()\n",
    "covid_max_Deaths_100Cases"
   ]
  },
  {
   "cell_type": "markdown",
   "metadata": {},
   "source": [
    "### 2. covid 데이터에서 신규 확진자가 없는 나라 중 WHO Region이 'Europe'를 모두 출력하면?  \n",
    "Hint : 한 줄에 동시에 두가지 조건을 Apply하는 경우 Warning이 발생할 수 있습니다."
   ]
  },
  {
   "cell_type": "code",
   "execution_count": 17,
   "metadata": {},
   "outputs": [
    {
     "output_type": "execute_result",
     "data": {
      "text/plain": [
       "    Country/Region  Confirmed  ...  1 week % increase  WHO Region\n",
       "56         Estonia       2034  ...               0.64      Europe\n",
       "75        Holy See         12  ...               0.00      Europe\n",
       "95          Latvia       1219  ...               2.27      Europe\n",
       "100  Liechtenstein         86  ...               0.00      Europe\n",
       "113         Monaco        116  ...               6.42      Europe\n",
       "143     San Marino        699  ...               0.00      Europe\n",
       "157          Spain     272421  ...               2.86      Europe\n",
       "\n",
       "[7 rows x 15 columns]"
      ],
      "text/html": "<div>\n<style scoped>\n    .dataframe tbody tr th:only-of-type {\n        vertical-align: middle;\n    }\n\n    .dataframe tbody tr th {\n        vertical-align: top;\n    }\n\n    .dataframe thead th {\n        text-align: right;\n    }\n</style>\n<table border=\"1\" class=\"dataframe\">\n  <thead>\n    <tr style=\"text-align: right;\">\n      <th></th>\n      <th>Country/Region</th>\n      <th>Confirmed</th>\n      <th>Deaths</th>\n      <th>Recovered</th>\n      <th>Active</th>\n      <th>New cases</th>\n      <th>New deaths</th>\n      <th>New recovered</th>\n      <th>Deaths / 100 Cases</th>\n      <th>Recovered / 100 Cases</th>\n      <th>Deaths / 100 Recovered</th>\n      <th>Confirmed last week</th>\n      <th>1 week change</th>\n      <th>1 week % increase</th>\n      <th>WHO Region</th>\n    </tr>\n  </thead>\n  <tbody>\n    <tr>\n      <th>56</th>\n      <td>Estonia</td>\n      <td>2034</td>\n      <td>69</td>\n      <td>1923</td>\n      <td>42</td>\n      <td>0</td>\n      <td>0</td>\n      <td>1</td>\n      <td>3.39</td>\n      <td>94.54</td>\n      <td>3.59</td>\n      <td>2021</td>\n      <td>13</td>\n      <td>0.64</td>\n      <td>Europe</td>\n    </tr>\n    <tr>\n      <th>75</th>\n      <td>Holy See</td>\n      <td>12</td>\n      <td>0</td>\n      <td>12</td>\n      <td>0</td>\n      <td>0</td>\n      <td>0</td>\n      <td>0</td>\n      <td>0.00</td>\n      <td>100.00</td>\n      <td>0.00</td>\n      <td>12</td>\n      <td>0</td>\n      <td>0.00</td>\n      <td>Europe</td>\n    </tr>\n    <tr>\n      <th>95</th>\n      <td>Latvia</td>\n      <td>1219</td>\n      <td>31</td>\n      <td>1045</td>\n      <td>143</td>\n      <td>0</td>\n      <td>0</td>\n      <td>0</td>\n      <td>2.54</td>\n      <td>85.73</td>\n      <td>2.97</td>\n      <td>1192</td>\n      <td>27</td>\n      <td>2.27</td>\n      <td>Europe</td>\n    </tr>\n    <tr>\n      <th>100</th>\n      <td>Liechtenstein</td>\n      <td>86</td>\n      <td>1</td>\n      <td>81</td>\n      <td>4</td>\n      <td>0</td>\n      <td>0</td>\n      <td>0</td>\n      <td>1.16</td>\n      <td>94.19</td>\n      <td>1.23</td>\n      <td>86</td>\n      <td>0</td>\n      <td>0.00</td>\n      <td>Europe</td>\n    </tr>\n    <tr>\n      <th>113</th>\n      <td>Monaco</td>\n      <td>116</td>\n      <td>4</td>\n      <td>104</td>\n      <td>8</td>\n      <td>0</td>\n      <td>0</td>\n      <td>0</td>\n      <td>3.45</td>\n      <td>89.66</td>\n      <td>3.85</td>\n      <td>109</td>\n      <td>7</td>\n      <td>6.42</td>\n      <td>Europe</td>\n    </tr>\n    <tr>\n      <th>143</th>\n      <td>San Marino</td>\n      <td>699</td>\n      <td>42</td>\n      <td>657</td>\n      <td>0</td>\n      <td>0</td>\n      <td>0</td>\n      <td>0</td>\n      <td>6.01</td>\n      <td>93.99</td>\n      <td>6.39</td>\n      <td>699</td>\n      <td>0</td>\n      <td>0.00</td>\n      <td>Europe</td>\n    </tr>\n    <tr>\n      <th>157</th>\n      <td>Spain</td>\n      <td>272421</td>\n      <td>28432</td>\n      <td>150376</td>\n      <td>93613</td>\n      <td>0</td>\n      <td>0</td>\n      <td>0</td>\n      <td>10.44</td>\n      <td>55.20</td>\n      <td>18.91</td>\n      <td>264836</td>\n      <td>7585</td>\n      <td>2.86</td>\n      <td>Europe</td>\n    </tr>\n  </tbody>\n</table>\n</div>"
     },
     "metadata": {},
     "execution_count": 17
    }
   ],
   "source": [
    "covid_New_cases_is_zero = covid[covid['New cases'] == 0]\n",
    "covid_New_cases_is_zero_in_Europe = covid_New_cases_is_zero[covid_New_cases_is_zero['WHO Region'] == 'Europe']\n",
    "covid_New_cases_is_zero_in_Europe"
   ]
  },
  {
   "cell_type": "markdown",
   "metadata": {},
   "source": [
    "### 3. 다음 [데이터](https://www.kaggle.com/neuromusic/avocado-prices)를 이용해 각 Region별로 아보카도가 가장 비싼 평균가격(AveragePrice)을 출력하면?"
   ]
  },
  {
   "cell_type": "code",
   "execution_count": 24,
   "metadata": {},
   "outputs": [
    {
     "output_type": "execute_result",
     "data": {
      "text/plain": [
       "<pandas.core.groupby.generic.DataFrameGroupBy object at 0x0000019AE2AD9BE0>"
      ]
     },
     "metadata": {},
     "execution_count": 24
    }
   ],
   "source": [
    "avocado = pd.read_csv('avocado.csv')\n",
    "avocado_by_region = avocado.groupby(by='region')\n",
    "avocado_by_region"
   ]
  },
  {
   "cell_type": "code",
   "execution_count": 25,
   "metadata": {},
   "outputs": [
    {
     "output_type": "execute_result",
     "data": {
      "text/plain": [
       "                     Unnamed: 0        Date  ...     type  year\n",
       "region                                       ...               \n",
       "Albany                       52  2018-03-25  ...  organic  2018\n",
       "Atlanta                      52  2018-03-25  ...  organic  2018\n",
       "BaltimoreWashington          52  2018-03-25  ...  organic  2018\n",
       "Boise                        52  2018-03-25  ...  organic  2018\n",
       "Boston                       52  2018-03-25  ...  organic  2018\n",
       "BuffaloRochester             52  2018-03-25  ...  organic  2018\n",
       "California                   52  2018-03-25  ...  organic  2018\n",
       "Charlotte                    52  2018-03-25  ...  organic  2018\n",
       "Chicago                      52  2018-03-25  ...  organic  2018\n",
       "CincinnatiDayton             52  2018-03-25  ...  organic  2018\n",
       "Columbus                     52  2018-03-25  ...  organic  2018\n",
       "DallasFtWorth                52  2018-03-25  ...  organic  2018\n",
       "Denver                       52  2018-03-25  ...  organic  2018\n",
       "Detroit                      52  2018-03-25  ...  organic  2018\n",
       "GrandRapids                  52  2018-03-25  ...  organic  2018\n",
       "GreatLakes                   52  2018-03-25  ...  organic  2018\n",
       "HarrisburgScranton           52  2018-03-25  ...  organic  2018\n",
       "HartfordSpringfield          52  2018-03-25  ...  organic  2018\n",
       "Houston                      52  2018-03-25  ...  organic  2018\n",
       "Indianapolis                 52  2018-03-25  ...  organic  2018\n",
       "Jacksonville                 52  2018-03-25  ...  organic  2018\n",
       "LasVegas                     52  2018-03-25  ...  organic  2018\n",
       "LosAngeles                   52  2018-03-25  ...  organic  2018\n",
       "Louisville                   52  2018-03-25  ...  organic  2018\n",
       "MiamiFtLauderdale            52  2018-03-25  ...  organic  2018\n",
       "Midsouth                     52  2018-03-25  ...  organic  2018\n",
       "Nashville                    52  2018-03-25  ...  organic  2018\n",
       "NewOrleansMobile             52  2018-03-25  ...  organic  2018\n",
       "NewYork                      52  2018-03-25  ...  organic  2018\n",
       "Northeast                    52  2018-03-25  ...  organic  2018\n",
       "NorthernNewEngland           52  2018-03-25  ...  organic  2018\n",
       "Orlando                      52  2018-03-25  ...  organic  2018\n",
       "Philadelphia                 52  2018-03-25  ...  organic  2018\n",
       "PhoenixTucson                52  2018-03-25  ...  organic  2018\n",
       "Pittsburgh                   52  2018-03-25  ...  organic  2018\n",
       "Plains                       52  2018-03-25  ...  organic  2018\n",
       "Portland                     52  2018-03-25  ...  organic  2018\n",
       "RaleighGreensboro            52  2018-03-25  ...  organic  2018\n",
       "RichmondNorfolk              52  2018-03-25  ...  organic  2018\n",
       "Roanoke                      52  2018-03-25  ...  organic  2018\n",
       "Sacramento                   52  2018-03-25  ...  organic  2018\n",
       "SanDiego                     52  2018-03-25  ...  organic  2018\n",
       "SanFrancisco                 52  2018-03-25  ...  organic  2018\n",
       "Seattle                      52  2018-03-25  ...  organic  2018\n",
       "SouthCarolina                52  2018-03-25  ...  organic  2018\n",
       "SouthCentral                 52  2018-03-25  ...  organic  2018\n",
       "Southeast                    52  2018-03-25  ...  organic  2018\n",
       "Spokane                      52  2018-03-25  ...  organic  2018\n",
       "StLouis                      52  2018-03-25  ...  organic  2018\n",
       "Syracuse                     52  2018-03-25  ...  organic  2018\n",
       "Tampa                        52  2018-03-25  ...  organic  2018\n",
       "TotalUS                      52  2018-03-25  ...  organic  2018\n",
       "West                         52  2018-03-25  ...  organic  2018\n",
       "WestTexNewMexico             52  2018-03-25  ...  organic  2018\n",
       "\n",
       "[54 rows x 13 columns]"
      ],
      "text/html": "<div>\n<style scoped>\n    .dataframe tbody tr th:only-of-type {\n        vertical-align: middle;\n    }\n\n    .dataframe tbody tr th {\n        vertical-align: top;\n    }\n\n    .dataframe thead th {\n        text-align: right;\n    }\n</style>\n<table border=\"1\" class=\"dataframe\">\n  <thead>\n    <tr style=\"text-align: right;\">\n      <th></th>\n      <th>Unnamed: 0</th>\n      <th>Date</th>\n      <th>AveragePrice</th>\n      <th>Total Volume</th>\n      <th>4046</th>\n      <th>4225</th>\n      <th>4770</th>\n      <th>Total Bags</th>\n      <th>Small Bags</th>\n      <th>Large Bags</th>\n      <th>XLarge Bags</th>\n      <th>type</th>\n      <th>year</th>\n    </tr>\n    <tr>\n      <th>region</th>\n      <th></th>\n      <th></th>\n      <th></th>\n      <th></th>\n      <th></th>\n      <th></th>\n      <th></th>\n      <th></th>\n      <th></th>\n      <th></th>\n      <th></th>\n      <th></th>\n      <th></th>\n    </tr>\n  </thead>\n  <tbody>\n    <tr>\n      <th>Albany</th>\n      <td>52</td>\n      <td>2018-03-25</td>\n      <td>2.13</td>\n      <td>216738.47</td>\n      <td>34912.97</td>\n      <td>195725.06</td>\n      <td>5883.16</td>\n      <td>36806.79</td>\n      <td>30126.31</td>\n      <td>27205.98</td>\n      <td>2900.00</td>\n      <td>organic</td>\n      <td>2018</td>\n    </tr>\n    <tr>\n      <th>Atlanta</th>\n      <td>52</td>\n      <td>2018-03-25</td>\n      <td>2.75</td>\n      <td>957792.07</td>\n      <td>553198.56</td>\n      <td>211776.98</td>\n      <td>4251.74</td>\n      <td>425991.21</td>\n      <td>292317.81</td>\n      <td>217337.59</td>\n      <td>10972.77</td>\n      <td>organic</td>\n      <td>2018</td>\n    </tr>\n    <tr>\n      <th>BaltimoreWashington</th>\n      <td>52</td>\n      <td>2018-03-25</td>\n      <td>2.28</td>\n      <td>1225103.27</td>\n      <td>202958.24</td>\n      <td>805041.45</td>\n      <td>83652.48</td>\n      <td>488208.25</td>\n      <td>483402.85</td>\n      <td>43483.00</td>\n      <td>13745.00</td>\n      <td>organic</td>\n      <td>2018</td>\n    </tr>\n    <tr>\n      <th>Boise</th>\n      <td>52</td>\n      <td>2018-03-25</td>\n      <td>2.79</td>\n      <td>136377.55</td>\n      <td>69544.59</td>\n      <td>36532.33</td>\n      <td>23346.13</td>\n      <td>93735.23</td>\n      <td>93645.45</td>\n      <td>40491.57</td>\n      <td>1231.57</td>\n      <td>organic</td>\n      <td>2018</td>\n    </tr>\n    <tr>\n      <th>Boston</th>\n      <td>52</td>\n      <td>2018-03-25</td>\n      <td>2.19</td>\n      <td>999783.13</td>\n      <td>85204.27</td>\n      <td>865836.92</td>\n      <td>81859.54</td>\n      <td>220254.40</td>\n      <td>215552.06</td>\n      <td>52294.16</td>\n      <td>4745.00</td>\n      <td>organic</td>\n      <td>2018</td>\n    </tr>\n    <tr>\n      <th>BuffaloRochester</th>\n      <td>52</td>\n      <td>2018-03-25</td>\n      <td>2.57</td>\n      <td>201142.55</td>\n      <td>26274.97</td>\n      <td>99364.48</td>\n      <td>6707.85</td>\n      <td>101271.16</td>\n      <td>101271.16</td>\n      <td>62156.06</td>\n      <td>5795.00</td>\n      <td>organic</td>\n      <td>2018</td>\n    </tr>\n    <tr>\n      <th>California</th>\n      <td>52</td>\n      <td>2018-03-25</td>\n      <td>2.58</td>\n      <td>11213596.29</td>\n      <td>4794142.14</td>\n      <td>4097591.67</td>\n      <td>424389.60</td>\n      <td>3462625.70</td>\n      <td>3403581.49</td>\n      <td>508755.56</td>\n      <td>86800.09</td>\n      <td>organic</td>\n      <td>2018</td>\n    </tr>\n    <tr>\n      <th>Charlotte</th>\n      <td>52</td>\n      <td>2018-03-25</td>\n      <td>2.83</td>\n      <td>411160.94</td>\n      <td>95176.35</td>\n      <td>172311.19</td>\n      <td>80813.88</td>\n      <td>223765.32</td>\n      <td>218181.70</td>\n      <td>17681.68</td>\n      <td>5520.00</td>\n      <td>organic</td>\n      <td>2018</td>\n    </tr>\n    <tr>\n      <th>Chicago</th>\n      <td>52</td>\n      <td>2018-03-25</td>\n      <td>2.30</td>\n      <td>1802646.35</td>\n      <td>378806.26</td>\n      <td>1235325.42</td>\n      <td>224554.50</td>\n      <td>510679.10</td>\n      <td>143295.47</td>\n      <td>423185.75</td>\n      <td>11540.00</td>\n      <td>organic</td>\n      <td>2018</td>\n    </tr>\n    <tr>\n      <th>CincinnatiDayton</th>\n      <td>52</td>\n      <td>2018-03-25</td>\n      <td>2.20</td>\n      <td>538518.77</td>\n      <td>102019.45</td>\n      <td>224967.68</td>\n      <td>30149.60</td>\n      <td>397270.05</td>\n      <td>165544.38</td>\n      <td>363468.52</td>\n      <td>9387.59</td>\n      <td>organic</td>\n      <td>2018</td>\n    </tr>\n    <tr>\n      <th>Columbus</th>\n      <td>52</td>\n      <td>2018-03-25</td>\n      <td>2.22</td>\n      <td>333398.29</td>\n      <td>140453.99</td>\n      <td>61748.67</td>\n      <td>36191.68</td>\n      <td>162102.31</td>\n      <td>135610.65</td>\n      <td>39927.30</td>\n      <td>8519.43</td>\n      <td>organic</td>\n      <td>2018</td>\n    </tr>\n    <tr>\n      <th>DallasFtWorth</th>\n      <td>52</td>\n      <td>2018-03-25</td>\n      <td>1.90</td>\n      <td>1885401.44</td>\n      <td>1013252.58</td>\n      <td>509069.75</td>\n      <td>143875.64</td>\n      <td>788607.81</td>\n      <td>673212.32</td>\n      <td>187840.93</td>\n      <td>30681.22</td>\n      <td>organic</td>\n      <td>2018</td>\n    </tr>\n    <tr>\n      <th>Denver</th>\n      <td>52</td>\n      <td>2018-03-25</td>\n      <td>2.16</td>\n      <td>1381528.74</td>\n      <td>239163.63</td>\n      <td>608156.34</td>\n      <td>62908.07</td>\n      <td>749722.33</td>\n      <td>326361.97</td>\n      <td>706052.84</td>\n      <td>4612.42</td>\n      <td>organic</td>\n      <td>2018</td>\n    </tr>\n    <tr>\n      <th>Detroit</th>\n      <td>52</td>\n      <td>2018-03-25</td>\n      <td>2.08</td>\n      <td>880540.45</td>\n      <td>214826.74</td>\n      <td>287359.89</td>\n      <td>192417.10</td>\n      <td>375815.94</td>\n      <td>349596.64</td>\n      <td>89516.48</td>\n      <td>38570.18</td>\n      <td>organic</td>\n      <td>2018</td>\n    </tr>\n    <tr>\n      <th>GrandRapids</th>\n      <td>52</td>\n      <td>2018-03-25</td>\n      <td>2.73</td>\n      <td>408921.57</td>\n      <td>7888.33</td>\n      <td>298897.77</td>\n      <td>143538.35</td>\n      <td>87927.29</td>\n      <td>80548.80</td>\n      <td>26632.00</td>\n      <td>43708.82</td>\n      <td>organic</td>\n      <td>2018</td>\n    </tr>\n    <tr>\n      <th>GreatLakes</th>\n      <td>52</td>\n      <td>2018-03-25</td>\n      <td>1.98</td>\n      <td>7094764.73</td>\n      <td>1410647.88</td>\n      <td>3117639.02</td>\n      <td>704466.56</td>\n      <td>2141227.31</td>\n      <td>1436877.51</td>\n      <td>832296.70</td>\n      <td>131300.76</td>\n      <td>organic</td>\n      <td>2018</td>\n    </tr>\n    <tr>\n      <th>HarrisburgScranton</th>\n      <td>52</td>\n      <td>2018-03-25</td>\n      <td>2.27</td>\n      <td>395673.05</td>\n      <td>125847.54</td>\n      <td>247409.27</td>\n      <td>4525.24</td>\n      <td>120786.61</td>\n      <td>119477.01</td>\n      <td>28613.00</td>\n      <td>11095.48</td>\n      <td>organic</td>\n      <td>2018</td>\n    </tr>\n    <tr>\n      <th>HartfordSpringfield</th>\n      <td>52</td>\n      <td>2018-03-25</td>\n      <td>2.68</td>\n      <td>522565.33</td>\n      <td>85641.41</td>\n      <td>449501.24</td>\n      <td>23027.59</td>\n      <td>110584.26</td>\n      <td>109324.82</td>\n      <td>28942.00</td>\n      <td>3881.61</td>\n      <td>organic</td>\n      <td>2018</td>\n    </tr>\n    <tr>\n      <th>Houston</th>\n      <td>52</td>\n      <td>2018-03-25</td>\n      <td>1.92</td>\n      <td>2381742.59</td>\n      <td>1134750.48</td>\n      <td>597855.73</td>\n      <td>210029.30</td>\n      <td>1120622.10</td>\n      <td>1010539.42</td>\n      <td>629791.58</td>\n      <td>30753.33</td>\n      <td>organic</td>\n      <td>2018</td>\n    </tr>\n    <tr>\n      <th>Indianapolis</th>\n      <td>52</td>\n      <td>2018-03-25</td>\n      <td>2.10</td>\n      <td>335442.41</td>\n      <td>90305.67</td>\n      <td>181784.28</td>\n      <td>27708.02</td>\n      <td>155633.65</td>\n      <td>104102.69</td>\n      <td>111176.50</td>\n      <td>7575.88</td>\n      <td>organic</td>\n      <td>2018</td>\n    </tr>\n    <tr>\n      <th>Jacksonville</th>\n      <td>52</td>\n      <td>2018-03-25</td>\n      <td>2.99</td>\n      <td>398543.91</td>\n      <td>206007.07</td>\n      <td>70592.24</td>\n      <td>2356.55</td>\n      <td>141030.88</td>\n      <td>79274.34</td>\n      <td>92767.01</td>\n      <td>5995.00</td>\n      <td>organic</td>\n      <td>2018</td>\n    </tr>\n    <tr>\n      <th>LasVegas</th>\n      <td>52</td>\n      <td>2018-03-25</td>\n      <td>3.03</td>\n      <td>680234.93</td>\n      <td>286395.34</td>\n      <td>212174.53</td>\n      <td>18141.91</td>\n      <td>264249.77</td>\n      <td>93651.31</td>\n      <td>207843.81</td>\n      <td>1473.33</td>\n      <td>organic</td>\n      <td>2018</td>\n    </tr>\n    <tr>\n      <th>LosAngeles</th>\n      <td>52</td>\n      <td>2018-03-25</td>\n      <td>2.44</td>\n      <td>5470227.08</td>\n      <td>2914047.44</td>\n      <td>1447533.80</td>\n      <td>121002.86</td>\n      <td>2701609.82</td>\n      <td>2656630.42</td>\n      <td>362931.85</td>\n      <td>61316.94</td>\n      <td>organic</td>\n      <td>2018</td>\n    </tr>\n    <tr>\n      <th>Louisville</th>\n      <td>52</td>\n      <td>2018-03-25</td>\n      <td>2.29</td>\n      <td>169828.77</td>\n      <td>37508.86</td>\n      <td>98136.23</td>\n      <td>10193.62</td>\n      <td>78880.66</td>\n      <td>53034.96</td>\n      <td>55257.34</td>\n      <td>4074.69</td>\n      <td>organic</td>\n      <td>2018</td>\n    </tr>\n    <tr>\n      <th>MiamiFtLauderdale</th>\n      <td>52</td>\n      <td>2018-03-25</td>\n      <td>3.05</td>\n      <td>1310671.51</td>\n      <td>897435.51</td>\n      <td>281503.40</td>\n      <td>9947.00</td>\n      <td>292462.33</td>\n      <td>120093.14</td>\n      <td>220080.54</td>\n      <td>17369.72</td>\n      <td>organic</td>\n      <td>2018</td>\n    </tr>\n    <tr>\n      <th>Midsouth</th>\n      <td>52</td>\n      <td>2018-03-25</td>\n      <td>2.17</td>\n      <td>5286412.87</td>\n      <td>1259113.31</td>\n      <td>2257429.97</td>\n      <td>388259.15</td>\n      <td>2299234.65</td>\n      <td>2062091.77</td>\n      <td>280722.16</td>\n      <td>79133.56</td>\n      <td>organic</td>\n      <td>2018</td>\n    </tr>\n    <tr>\n      <th>Nashville</th>\n      <td>52</td>\n      <td>2018-03-25</td>\n      <td>2.24</td>\n      <td>391780.25</td>\n      <td>186689.66</td>\n      <td>59611.16</td>\n      <td>17578.18</td>\n      <td>193381.81</td>\n      <td>186396.09</td>\n      <td>45308.77</td>\n      <td>2780.00</td>\n      <td>organic</td>\n      <td>2018</td>\n    </tr>\n    <tr>\n      <th>NewOrleansMobile</th>\n      <td>52</td>\n      <td>2018-03-25</td>\n      <td>2.32</td>\n      <td>633235.06</td>\n      <td>400599.94</td>\n      <td>80089.33</td>\n      <td>15050.73</td>\n      <td>161891.76</td>\n      <td>128875.87</td>\n      <td>43469.83</td>\n      <td>16675.00</td>\n      <td>organic</td>\n      <td>2018</td>\n    </tr>\n    <tr>\n      <th>NewYork</th>\n      <td>52</td>\n      <td>2018-03-25</td>\n      <td>2.65</td>\n      <td>2959541.38</td>\n      <td>294591.11</td>\n      <td>2283465.22</td>\n      <td>279630.35</td>\n      <td>806773.40</td>\n      <td>774634.09</td>\n      <td>305309.26</td>\n      <td>18757.50</td>\n      <td>organic</td>\n      <td>2018</td>\n    </tr>\n    <tr>\n      <th>Northeast</th>\n      <td>52</td>\n      <td>2018-03-25</td>\n      <td>2.31</td>\n      <td>7508650.27</td>\n      <td>736158.49</td>\n      <td>5402444.45</td>\n      <td>375904.92</td>\n      <td>1925092.30</td>\n      <td>1495884.84</td>\n      <td>640105.84</td>\n      <td>69794.85</td>\n      <td>organic</td>\n      <td>2018</td>\n    </tr>\n    <tr>\n      <th>NorthernNewEngland</th>\n      <td>52</td>\n      <td>2018-03-25</td>\n      <td>1.96</td>\n      <td>847261.25</td>\n      <td>211564.36</td>\n      <td>754096.71</td>\n      <td>64720.71</td>\n      <td>196316.33</td>\n      <td>176636.74</td>\n      <td>154825.16</td>\n      <td>9655.00</td>\n      <td>organic</td>\n      <td>2018</td>\n    </tr>\n    <tr>\n      <th>Orlando</th>\n      <td>52</td>\n      <td>2018-03-25</td>\n      <td>2.87</td>\n      <td>759532.37</td>\n      <td>511953.91</td>\n      <td>151154.50</td>\n      <td>2083.82</td>\n      <td>223889.61</td>\n      <td>94810.52</td>\n      <td>155928.30</td>\n      <td>19396.39</td>\n      <td>organic</td>\n      <td>2018</td>\n    </tr>\n    <tr>\n      <th>Philadelphia</th>\n      <td>52</td>\n      <td>2018-03-25</td>\n      <td>2.45</td>\n      <td>819224.30</td>\n      <td>130162.76</td>\n      <td>511600.73</td>\n      <td>58242.14</td>\n      <td>288606.41</td>\n      <td>261473.35</td>\n      <td>54389.00</td>\n      <td>8255.40</td>\n      <td>organic</td>\n      <td>2018</td>\n    </tr>\n    <tr>\n      <th>PhoenixTucson</th>\n      <td>52</td>\n      <td>2018-03-25</td>\n      <td>2.62</td>\n      <td>2200550.27</td>\n      <td>1200632.86</td>\n      <td>531226.65</td>\n      <td>57213.24</td>\n      <td>534479.18</td>\n      <td>330740.57</td>\n      <td>330583.10</td>\n      <td>6709.75</td>\n      <td>organic</td>\n      <td>2018</td>\n    </tr>\n    <tr>\n      <th>Pittsburgh</th>\n      <td>52</td>\n      <td>2018-03-25</td>\n      <td>1.83</td>\n      <td>214738.04</td>\n      <td>107597.81</td>\n      <td>145405.43</td>\n      <td>5316.06</td>\n      <td>99834.61</td>\n      <td>48023.13</td>\n      <td>63248.94</td>\n      <td>6515.00</td>\n      <td>organic</td>\n      <td>2018</td>\n    </tr>\n    <tr>\n      <th>Plains</th>\n      <td>52</td>\n      <td>2018-03-25</td>\n      <td>2.13</td>\n      <td>3575499.21</td>\n      <td>2157030.64</td>\n      <td>1165322.88</td>\n      <td>53882.08</td>\n      <td>869560.91</td>\n      <td>717323.25</td>\n      <td>190573.14</td>\n      <td>52003.87</td>\n      <td>organic</td>\n      <td>2018</td>\n    </tr>\n    <tr>\n      <th>Portland</th>\n      <td>52</td>\n      <td>2018-03-25</td>\n      <td>2.86</td>\n      <td>1189151.17</td>\n      <td>264203.19</td>\n      <td>535324.57</td>\n      <td>45229.53</td>\n      <td>737683.65</td>\n      <td>678871.57</td>\n      <td>391141.49</td>\n      <td>7648.30</td>\n      <td>organic</td>\n      <td>2018</td>\n    </tr>\n    <tr>\n      <th>RaleighGreensboro</th>\n      <td>52</td>\n      <td>2018-03-25</td>\n      <td>3.04</td>\n      <td>552900.21</td>\n      <td>123228.06</td>\n      <td>230068.42</td>\n      <td>88450.29</td>\n      <td>320856.77</td>\n      <td>312969.23</td>\n      <td>19822.48</td>\n      <td>10935.00</td>\n      <td>organic</td>\n      <td>2018</td>\n    </tr>\n    <tr>\n      <th>RichmondNorfolk</th>\n      <td>52</td>\n      <td>2018-03-25</td>\n      <td>2.05</td>\n      <td>469093.71</td>\n      <td>145746.61</td>\n      <td>168148.89</td>\n      <td>21686.02</td>\n      <td>214438.38</td>\n      <td>187621.35</td>\n      <td>26710.36</td>\n      <td>9460.83</td>\n      <td>organic</td>\n      <td>2018</td>\n    </tr>\n    <tr>\n      <th>Roanoke</th>\n      <td>52</td>\n      <td>2018-03-25</td>\n      <td>2.27</td>\n      <td>287728.25</td>\n      <td>82020.39</td>\n      <td>79535.27</td>\n      <td>2541.99</td>\n      <td>150169.93</td>\n      <td>116918.04</td>\n      <td>32938.52</td>\n      <td>5763.33</td>\n      <td>organic</td>\n      <td>2018</td>\n    </tr>\n    <tr>\n      <th>Sacramento</th>\n      <td>52</td>\n      <td>2018-03-25</td>\n      <td>2.82</td>\n      <td>862337.10</td>\n      <td>321474.22</td>\n      <td>518775.30</td>\n      <td>34235.86</td>\n      <td>136289.77</td>\n      <td>128164.60</td>\n      <td>5504.02</td>\n      <td>7129.43</td>\n      <td>organic</td>\n      <td>2018</td>\n    </tr>\n    <tr>\n      <th>SanDiego</th>\n      <td>52</td>\n      <td>2018-03-25</td>\n      <td>2.74</td>\n      <td>917660.79</td>\n      <td>424263.68</td>\n      <td>439224.74</td>\n      <td>32042.58</td>\n      <td>378746.24</td>\n      <td>318872.23</td>\n      <td>155614.62</td>\n      <td>5649.28</td>\n      <td>organic</td>\n      <td>2018</td>\n    </tr>\n    <tr>\n      <th>SanFrancisco</th>\n      <td>52</td>\n      <td>2018-03-25</td>\n      <td>3.25</td>\n      <td>1706251.05</td>\n      <td>560686.25</td>\n      <td>1113987.54</td>\n      <td>76966.69</td>\n      <td>236417.93</td>\n      <td>231913.11</td>\n      <td>11823.61</td>\n      <td>10906.94</td>\n      <td>organic</td>\n      <td>2018</td>\n    </tr>\n    <tr>\n      <th>Seattle</th>\n      <td>52</td>\n      <td>2018-03-25</td>\n      <td>2.96</td>\n      <td>1093144.23</td>\n      <td>263440.86</td>\n      <td>578708.75</td>\n      <td>18076.48</td>\n      <td>650319.01</td>\n      <td>573866.81</td>\n      <td>312387.51</td>\n      <td>1943.12</td>\n      <td>organic</td>\n      <td>2018</td>\n    </tr>\n    <tr>\n      <th>SouthCarolina</th>\n      <td>52</td>\n      <td>2018-03-25</td>\n      <td>2.21</td>\n      <td>706098.15</td>\n      <td>365828.76</td>\n      <td>182799.50</td>\n      <td>27248.16</td>\n      <td>272030.47</td>\n      <td>200563.64</td>\n      <td>70398.75</td>\n      <td>14585.00</td>\n      <td>organic</td>\n      <td>2018</td>\n    </tr>\n    <tr>\n      <th>SouthCentral</th>\n      <td>52</td>\n      <td>2018-03-25</td>\n      <td>1.81</td>\n      <td>10323174.59</td>\n      <td>5160896.68</td>\n      <td>2390282.14</td>\n      <td>804558.25</td>\n      <td>4014132.29</td>\n      <td>3398569.92</td>\n      <td>1049435.14</td>\n      <td>108072.79</td>\n      <td>organic</td>\n      <td>2018</td>\n    </tr>\n    <tr>\n      <th>Southeast</th>\n      <td>52</td>\n      <td>2018-03-25</td>\n      <td>2.33</td>\n      <td>7545938.97</td>\n      <td>4492704.70</td>\n      <td>1537592.22</td>\n      <td>97111.62</td>\n      <td>2379984.02</td>\n      <td>1405622.59</td>\n      <td>1318520.16</td>\n      <td>92787.50</td>\n      <td>organic</td>\n      <td>2018</td>\n    </tr>\n    <tr>\n      <th>Spokane</th>\n      <td>52</td>\n      <td>2018-03-25</td>\n      <td>2.95</td>\n      <td>165785.94</td>\n      <td>46467.69</td>\n      <td>84741.31</td>\n      <td>6422.29</td>\n      <td>89795.19</td>\n      <td>75098.77</td>\n      <td>43887.36</td>\n      <td>331.90</td>\n      <td>organic</td>\n      <td>2018</td>\n    </tr>\n    <tr>\n      <th>StLouis</th>\n      <td>52</td>\n      <td>2018-03-25</td>\n      <td>2.84</td>\n      <td>348135.49</td>\n      <td>209893.28</td>\n      <td>80994.41</td>\n      <td>895.48</td>\n      <td>260500.63</td>\n      <td>225966.72</td>\n      <td>54426.61</td>\n      <td>18517.91</td>\n      <td>organic</td>\n      <td>2018</td>\n    </tr>\n    <tr>\n      <th>Syracuse</th>\n      <td>52</td>\n      <td>2018-03-25</td>\n      <td>2.44</td>\n      <td>113023.35</td>\n      <td>10004.38</td>\n      <td>78340.67</td>\n      <td>3980.63</td>\n      <td>35695.67</td>\n      <td>34559.23</td>\n      <td>22305.58</td>\n      <td>3005.00</td>\n      <td>organic</td>\n      <td>2018</td>\n    </tr>\n    <tr>\n      <th>Tampa</th>\n      <td>52</td>\n      <td>2018-03-25</td>\n      <td>3.17</td>\n      <td>893143.94</td>\n      <td>564685.19</td>\n      <td>200199.09</td>\n      <td>2087.35</td>\n      <td>260556.30</td>\n      <td>150022.99</td>\n      <td>150133.37</td>\n      <td>15976.67</td>\n      <td>organic</td>\n      <td>2018</td>\n    </tr>\n    <tr>\n      <th>TotalUS</th>\n      <td>52</td>\n      <td>2018-03-25</td>\n      <td>2.09</td>\n      <td>62505646.52</td>\n      <td>22743616.17</td>\n      <td>20470572.61</td>\n      <td>2546439.11</td>\n      <td>19373134.37</td>\n      <td>13384586.80</td>\n      <td>5719096.61</td>\n      <td>551693.65</td>\n      <td>organic</td>\n      <td>2018</td>\n    </tr>\n    <tr>\n      <th>West</th>\n      <td>52</td>\n      <td>2018-03-25</td>\n      <td>2.52</td>\n      <td>11274749.11</td>\n      <td>4377537.67</td>\n      <td>3872672.00</td>\n      <td>281618.20</td>\n      <td>4145406.70</td>\n      <td>2780258.77</td>\n      <td>2838239.39</td>\n      <td>26564.17</td>\n      <td>organic</td>\n      <td>2018</td>\n    </tr>\n    <tr>\n      <th>WestTexNewMexico</th>\n      <td>52</td>\n      <td>2018-03-25</td>\n      <td>2.93</td>\n      <td>1637554.42</td>\n      <td>1067388.68</td>\n      <td>376232.89</td>\n      <td>74916.26</td>\n      <td>424013.40</td>\n      <td>243993.80</td>\n      <td>287509.52</td>\n      <td>38120.00</td>\n      <td>organic</td>\n      <td>2018</td>\n    </tr>\n  </tbody>\n</table>\n</div>"
     },
     "metadata": {},
     "execution_count": 25
    }
   ],
   "source": [
    "avocado_by_region.max()"
   ]
  },
  {
   "cell_type": "code",
   "execution_count": null,
   "metadata": {},
   "outputs": [],
   "source": []
  }
 ],
 "metadata": {
  "kernelspec": {
   "display_name": "Python 3",
   "language": "python",
   "name": "python3"
  },
  "language_info": {
   "codemirror_mode": {
    "name": "ipython",
    "version": 3
   },
   "file_extension": ".py",
   "mimetype": "text/x-python",
   "name": "python",
   "nbconvert_exporter": "python",
   "pygments_lexer": "ipython3",
   "version": "3.8.3-final"
  }
 },
 "nbformat": 4,
 "nbformat_minor": 4
}