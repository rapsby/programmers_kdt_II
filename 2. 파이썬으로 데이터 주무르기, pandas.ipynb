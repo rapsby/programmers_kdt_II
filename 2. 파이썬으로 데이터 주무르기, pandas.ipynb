{
 "cells": [
  {
   "cell_type": "markdown",
   "metadata": {},
   "source": [
    "# 2. 파이썬으로 데이터 주무르기, pandas\n",
    "**pandas를 활용해서 데이터프레임을 다뤄봅시다.**"
   ]
  },
  {
   "cell_type": "markdown",
   "metadata": {},
   "source": [
    "1. Pandas 시작하기\n",
    "    - prerequisite : Table\n",
    "    - pandas import하기\n",
    "   \n",
    "2. Pandas로 1차원 데이터 다루기 - Series \n",
    "    - Series 선언하기\n",
    "    - Series vs ndarray\n",
    "    - Series vs dict\n",
    "    - Series에 이름 붙이기\n",
    "3. Pandas로 2차원 데이터 다루기 - dataframe\n",
    "    - dataframe 선언하기\n",
    "    - from csv to dataframe\n",
    "    - dataframe 자료 접근하기\n",
    "\n",
    "[수업에 사용된 covid 데이터](https://www.kaggle.com/imdevskp/corona-virus-report)"
   ]
  },
  {
   "cell_type": "markdown",
   "metadata": {},
   "source": [
    "## I. pandas 시작하기"
   ]
  },
  {
   "cell_type": "code",
   "execution_count": 1,
   "metadata": {},
   "outputs": [],
   "source": [
    "import pandas as pd"
   ]
  },
  {
   "cell_type": "markdown",
   "metadata": {},
   "source": [
    "## II. pandas로 1차원 데이터 다루기 - Series"
   ]
  },
  {
   "cell_type": "code",
   "execution_count": 2,
   "metadata": {},
   "outputs": [
    {
     "output_type": "execute_result",
     "data": {
      "text/plain": [
       "0     1\n",
       "1     4\n",
       "2     9\n",
       "3    16\n",
       "4    25\n",
       "dtype: int64"
      ]
     },
     "metadata": {},
     "execution_count": 2
    }
   ],
   "source": [
    "s = pd.Series([1, 4, 9, 16, 25])\n",
    "s"
   ]
  },
  {
   "cell_type": "code",
   "execution_count": 3,
   "metadata": {},
   "outputs": [],
   "source": [
    "t = pd.Series({'one':1, 'two':2})"
   ]
  },
  {
   "cell_type": "code",
   "execution_count": 4,
   "metadata": {},
   "outputs": [
    {
     "output_type": "execute_result",
     "data": {
      "text/plain": [
       "3    16\n",
       "4    25\n",
       "dtype: int64"
      ]
     },
     "metadata": {},
     "execution_count": 4
    }
   ],
   "source": [
    "s[s > s.median()]"
   ]
  },
  {
   "cell_type": "code",
   "execution_count": 5,
   "metadata": {},
   "outputs": [
    {
     "output_type": "execute_result",
     "data": {
      "text/plain": [
       "3    16\n",
       "1     4\n",
       "4    25\n",
       "dtype: int64"
      ]
     },
     "metadata": {},
     "execution_count": 5
    }
   ],
   "source": [
    "s[[3,1,4]]"
   ]
  },
  {
   "cell_type": "code",
   "execution_count": 6,
   "metadata": {},
   "outputs": [
    {
     "output_type": "execute_result",
     "data": {
      "text/plain": [
       "0    2.718282e+00\n",
       "1    5.459815e+01\n",
       "2    8.103084e+03\n",
       "3    8.886111e+06\n",
       "4    7.200490e+10\n",
       "dtype: float64"
      ]
     },
     "metadata": {},
     "execution_count": 6
    }
   ],
   "source": [
    "import numpy as np\n",
    "np.exp(s)"
   ]
  },
  {
   "cell_type": "code",
   "execution_count": 7,
   "metadata": {},
   "outputs": [
    {
     "output_type": "execute_result",
     "data": {
      "text/plain": [
       "0    0.404651\n",
       "1    0.736583\n",
       "2    1.444669\n",
       "3    0.247179\n",
       "4   -0.791908\n",
       "Name: random_nums, dtype: float64"
      ]
     },
     "metadata": {},
     "execution_count": 7
    }
   ],
   "source": [
    "s = pd.Series(np.random.randn(5), name='random_nums')\n",
    "s"
   ]
  },
  {
   "source": [
    "## III. Pandas로 2차원 데이터 다루기 - dataframe"
   ],
   "cell_type": "markdown",
   "metadata": {}
  },
  {
   "cell_type": "code",
   "execution_count": 8,
   "metadata": {},
   "outputs": [
    {
     "output_type": "execute_result",
     "data": {
      "text/plain": [
       "   height  weight\n",
       "0       1      30\n",
       "1       2      40\n",
       "2       3      50\n",
       "3       4      60"
      ],
      "text/html": "<div>\n<style scoped>\n    .dataframe tbody tr th:only-of-type {\n        vertical-align: middle;\n    }\n\n    .dataframe tbody tr th {\n        vertical-align: top;\n    }\n\n    .dataframe thead th {\n        text-align: right;\n    }\n</style>\n<table border=\"1\" class=\"dataframe\">\n  <thead>\n    <tr style=\"text-align: right;\">\n      <th></th>\n      <th>height</th>\n      <th>weight</th>\n    </tr>\n  </thead>\n  <tbody>\n    <tr>\n      <th>0</th>\n      <td>1</td>\n      <td>30</td>\n    </tr>\n    <tr>\n      <th>1</th>\n      <td>2</td>\n      <td>40</td>\n    </tr>\n    <tr>\n      <th>2</th>\n      <td>3</td>\n      <td>50</td>\n    </tr>\n    <tr>\n      <th>3</th>\n      <td>4</td>\n      <td>60</td>\n    </tr>\n  </tbody>\n</table>\n</div>"
     },
     "metadata": {},
     "execution_count": 8
    }
   ],
   "source": [
    "d = {'height':[1,2,3,4], 'weight':[30,40,50,60]}\n",
    "df = pd.DataFrame(d)\n",
    "df"
   ]
  },
  {
   "cell_type": "code",
   "execution_count": 9,
   "metadata": {},
   "outputs": [
    {
     "output_type": "execute_result",
     "data": {
      "text/plain": [
       "height    int64\n",
       "weight    int64\n",
       "dtype: object"
      ]
     },
     "metadata": {},
     "execution_count": 9
    }
   ],
   "source": [
    "df.dtypes"
   ]
  },
  {
   "cell_type": "code",
   "execution_count": 10,
   "metadata": {},
   "outputs": [
    {
     "output_type": "execute_result",
     "data": {
      "text/plain": [
       "         Country/Region  Confirmed  Deaths  Recovered  Active  New cases  \\\n",
       "0           Afghanistan      36263    1269      25198    9796        106   \n",
       "1               Albania       4880     144       2745    1991        117   \n",
       "2               Algeria      27973    1163      18837    7973        616   \n",
       "3               Andorra        907      52        803      52         10   \n",
       "4                Angola        950      41        242     667         18   \n",
       "..                  ...        ...     ...        ...     ...        ...   \n",
       "182  West Bank and Gaza      10621      78       3752    6791        152   \n",
       "183      Western Sahara         10       1          8       1          0   \n",
       "184               Yemen       1691     483        833     375         10   \n",
       "185              Zambia       4552     140       2815    1597         71   \n",
       "186            Zimbabwe       2704      36        542    2126        192   \n",
       "\n",
       "     New deaths  New recovered  Deaths / 100 Cases  Recovered / 100 Cases  \\\n",
       "0            10             18                3.50                  69.49   \n",
       "1             6             63                2.95                  56.25   \n",
       "2             8            749                4.16                  67.34   \n",
       "3             0              0                5.73                  88.53   \n",
       "4             1              0                4.32                  25.47   \n",
       "..          ...            ...                 ...                    ...   \n",
       "182           2              0                0.73                  35.33   \n",
       "183           0              0               10.00                  80.00   \n",
       "184           4             36               28.56                  49.26   \n",
       "185           1            465                3.08                  61.84   \n",
       "186           2             24                1.33                  20.04   \n",
       "\n",
       "     Deaths / 100 Recovered  Confirmed last week  1 week change  \\\n",
       "0                      5.04                35526            737   \n",
       "1                      5.25                 4171            709   \n",
       "2                      6.17                23691           4282   \n",
       "3                      6.48                  884             23   \n",
       "4                     16.94                  749            201   \n",
       "..                      ...                  ...            ...   \n",
       "182                    2.08                 8916           1705   \n",
       "183                   12.50                   10              0   \n",
       "184                   57.98                 1619             72   \n",
       "185                    4.97                 3326           1226   \n",
       "186                    6.64                 1713            991   \n",
       "\n",
       "     1 week % increase             WHO Region  \n",
       "0                 2.07  Eastern Mediterranean  \n",
       "1                17.00                 Europe  \n",
       "2                18.07                 Africa  \n",
       "3                 2.60                 Europe  \n",
       "4                26.84                 Africa  \n",
       "..                 ...                    ...  \n",
       "182              19.12  Eastern Mediterranean  \n",
       "183               0.00                 Africa  \n",
       "184               4.45  Eastern Mediterranean  \n",
       "185              36.86                 Africa  \n",
       "186              57.85                 Africa  \n",
       "\n",
       "[187 rows x 15 columns]"
      ],
      "text/html": "<div>\n<style scoped>\n    .dataframe tbody tr th:only-of-type {\n        vertical-align: middle;\n    }\n\n    .dataframe tbody tr th {\n        vertical-align: top;\n    }\n\n    .dataframe thead th {\n        text-align: right;\n    }\n</style>\n<table border=\"1\" class=\"dataframe\">\n  <thead>\n    <tr style=\"text-align: right;\">\n      <th></th>\n      <th>Country/Region</th>\n      <th>Confirmed</th>\n      <th>Deaths</th>\n      <th>Recovered</th>\n      <th>Active</th>\n      <th>New cases</th>\n      <th>New deaths</th>\n      <th>New recovered</th>\n      <th>Deaths / 100 Cases</th>\n      <th>Recovered / 100 Cases</th>\n      <th>Deaths / 100 Recovered</th>\n      <th>Confirmed last week</th>\n      <th>1 week change</th>\n      <th>1 week % increase</th>\n      <th>WHO Region</th>\n    </tr>\n  </thead>\n  <tbody>\n    <tr>\n      <th>0</th>\n      <td>Afghanistan</td>\n      <td>36263</td>\n      <td>1269</td>\n      <td>25198</td>\n      <td>9796</td>\n      <td>106</td>\n      <td>10</td>\n      <td>18</td>\n      <td>3.50</td>\n      <td>69.49</td>\n      <td>5.04</td>\n      <td>35526</td>\n      <td>737</td>\n      <td>2.07</td>\n      <td>Eastern Mediterranean</td>\n    </tr>\n    <tr>\n      <th>1</th>\n      <td>Albania</td>\n      <td>4880</td>\n      <td>144</td>\n      <td>2745</td>\n      <td>1991</td>\n      <td>117</td>\n      <td>6</td>\n      <td>63</td>\n      <td>2.95</td>\n      <td>56.25</td>\n      <td>5.25</td>\n      <td>4171</td>\n      <td>709</td>\n      <td>17.00</td>\n      <td>Europe</td>\n    </tr>\n    <tr>\n      <th>2</th>\n      <td>Algeria</td>\n      <td>27973</td>\n      <td>1163</td>\n      <td>18837</td>\n      <td>7973</td>\n      <td>616</td>\n      <td>8</td>\n      <td>749</td>\n      <td>4.16</td>\n      <td>67.34</td>\n      <td>6.17</td>\n      <td>23691</td>\n      <td>4282</td>\n      <td>18.07</td>\n      <td>Africa</td>\n    </tr>\n    <tr>\n      <th>3</th>\n      <td>Andorra</td>\n      <td>907</td>\n      <td>52</td>\n      <td>803</td>\n      <td>52</td>\n      <td>10</td>\n      <td>0</td>\n      <td>0</td>\n      <td>5.73</td>\n      <td>88.53</td>\n      <td>6.48</td>\n      <td>884</td>\n      <td>23</td>\n      <td>2.60</td>\n      <td>Europe</td>\n    </tr>\n    <tr>\n      <th>4</th>\n      <td>Angola</td>\n      <td>950</td>\n      <td>41</td>\n      <td>242</td>\n      <td>667</td>\n      <td>18</td>\n      <td>1</td>\n      <td>0</td>\n      <td>4.32</td>\n      <td>25.47</td>\n      <td>16.94</td>\n      <td>749</td>\n      <td>201</td>\n      <td>26.84</td>\n      <td>Africa</td>\n    </tr>\n    <tr>\n      <th>...</th>\n      <td>...</td>\n      <td>...</td>\n      <td>...</td>\n      <td>...</td>\n      <td>...</td>\n      <td>...</td>\n      <td>...</td>\n      <td>...</td>\n      <td>...</td>\n      <td>...</td>\n      <td>...</td>\n      <td>...</td>\n      <td>...</td>\n      <td>...</td>\n      <td>...</td>\n    </tr>\n    <tr>\n      <th>182</th>\n      <td>West Bank and Gaza</td>\n      <td>10621</td>\n      <td>78</td>\n      <td>3752</td>\n      <td>6791</td>\n      <td>152</td>\n      <td>2</td>\n      <td>0</td>\n      <td>0.73</td>\n      <td>35.33</td>\n      <td>2.08</td>\n      <td>8916</td>\n      <td>1705</td>\n      <td>19.12</td>\n      <td>Eastern Mediterranean</td>\n    </tr>\n    <tr>\n      <th>183</th>\n      <td>Western Sahara</td>\n      <td>10</td>\n      <td>1</td>\n      <td>8</td>\n      <td>1</td>\n      <td>0</td>\n      <td>0</td>\n      <td>0</td>\n      <td>10.00</td>\n      <td>80.00</td>\n      <td>12.50</td>\n      <td>10</td>\n      <td>0</td>\n      <td>0.00</td>\n      <td>Africa</td>\n    </tr>\n    <tr>\n      <th>184</th>\n      <td>Yemen</td>\n      <td>1691</td>\n      <td>483</td>\n      <td>833</td>\n      <td>375</td>\n      <td>10</td>\n      <td>4</td>\n      <td>36</td>\n      <td>28.56</td>\n      <td>49.26</td>\n      <td>57.98</td>\n      <td>1619</td>\n      <td>72</td>\n      <td>4.45</td>\n      <td>Eastern Mediterranean</td>\n    </tr>\n    <tr>\n      <th>185</th>\n      <td>Zambia</td>\n      <td>4552</td>\n      <td>140</td>\n      <td>2815</td>\n      <td>1597</td>\n      <td>71</td>\n      <td>1</td>\n      <td>465</td>\n      <td>3.08</td>\n      <td>61.84</td>\n      <td>4.97</td>\n      <td>3326</td>\n      <td>1226</td>\n      <td>36.86</td>\n      <td>Africa</td>\n    </tr>\n    <tr>\n      <th>186</th>\n      <td>Zimbabwe</td>\n      <td>2704</td>\n      <td>36</td>\n      <td>542</td>\n      <td>2126</td>\n      <td>192</td>\n      <td>2</td>\n      <td>24</td>\n      <td>1.33</td>\n      <td>20.04</td>\n      <td>6.64</td>\n      <td>1713</td>\n      <td>991</td>\n      <td>57.85</td>\n      <td>Africa</td>\n    </tr>\n  </tbody>\n</table>\n<p>187 rows × 15 columns</p>\n</div>"
     },
     "metadata": {},
     "execution_count": 10
    }
   ],
   "source": [
    "covid = pd.read_csv('country_wise_latest.csv')\n",
    "covid"
   ]
  },
  {
   "cell_type": "code",
   "execution_count": 11,
   "metadata": {},
   "outputs": [
    {
     "output_type": "execute_result",
     "data": {
      "text/plain": [
       "  Country/Region  Confirmed  Deaths  Recovered  Active  New cases  New deaths  \\\n",
       "0    Afghanistan      36263    1269      25198    9796        106          10   \n",
       "1        Albania       4880     144       2745    1991        117           6   \n",
       "2        Algeria      27973    1163      18837    7973        616           8   \n",
       "3        Andorra        907      52        803      52         10           0   \n",
       "4         Angola        950      41        242     667         18           1   \n",
       "\n",
       "   New recovered  Deaths / 100 Cases  Recovered / 100 Cases  \\\n",
       "0             18                3.50                  69.49   \n",
       "1             63                2.95                  56.25   \n",
       "2            749                4.16                  67.34   \n",
       "3              0                5.73                  88.53   \n",
       "4              0                4.32                  25.47   \n",
       "\n",
       "   Deaths / 100 Recovered  Confirmed last week  1 week change  \\\n",
       "0                    5.04                35526            737   \n",
       "1                    5.25                 4171            709   \n",
       "2                    6.17                23691           4282   \n",
       "3                    6.48                  884             23   \n",
       "4                   16.94                  749            201   \n",
       "\n",
       "   1 week % increase             WHO Region  \n",
       "0               2.07  Eastern Mediterranean  \n",
       "1              17.00                 Europe  \n",
       "2              18.07                 Africa  \n",
       "3               2.60                 Europe  \n",
       "4              26.84                 Africa  "
      ],
      "text/html": "<div>\n<style scoped>\n    .dataframe tbody tr th:only-of-type {\n        vertical-align: middle;\n    }\n\n    .dataframe tbody tr th {\n        vertical-align: top;\n    }\n\n    .dataframe thead th {\n        text-align: right;\n    }\n</style>\n<table border=\"1\" class=\"dataframe\">\n  <thead>\n    <tr style=\"text-align: right;\">\n      <th></th>\n      <th>Country/Region</th>\n      <th>Confirmed</th>\n      <th>Deaths</th>\n      <th>Recovered</th>\n      <th>Active</th>\n      <th>New cases</th>\n      <th>New deaths</th>\n      <th>New recovered</th>\n      <th>Deaths / 100 Cases</th>\n      <th>Recovered / 100 Cases</th>\n      <th>Deaths / 100 Recovered</th>\n      <th>Confirmed last week</th>\n      <th>1 week change</th>\n      <th>1 week % increase</th>\n      <th>WHO Region</th>\n    </tr>\n  </thead>\n  <tbody>\n    <tr>\n      <th>0</th>\n      <td>Afghanistan</td>\n      <td>36263</td>\n      <td>1269</td>\n      <td>25198</td>\n      <td>9796</td>\n      <td>106</td>\n      <td>10</td>\n      <td>18</td>\n      <td>3.50</td>\n      <td>69.49</td>\n      <td>5.04</td>\n      <td>35526</td>\n      <td>737</td>\n      <td>2.07</td>\n      <td>Eastern Mediterranean</td>\n    </tr>\n    <tr>\n      <th>1</th>\n      <td>Albania</td>\n      <td>4880</td>\n      <td>144</td>\n      <td>2745</td>\n      <td>1991</td>\n      <td>117</td>\n      <td>6</td>\n      <td>63</td>\n      <td>2.95</td>\n      <td>56.25</td>\n      <td>5.25</td>\n      <td>4171</td>\n      <td>709</td>\n      <td>17.00</td>\n      <td>Europe</td>\n    </tr>\n    <tr>\n      <th>2</th>\n      <td>Algeria</td>\n      <td>27973</td>\n      <td>1163</td>\n      <td>18837</td>\n      <td>7973</td>\n      <td>616</td>\n      <td>8</td>\n      <td>749</td>\n      <td>4.16</td>\n      <td>67.34</td>\n      <td>6.17</td>\n      <td>23691</td>\n      <td>4282</td>\n      <td>18.07</td>\n      <td>Africa</td>\n    </tr>\n    <tr>\n      <th>3</th>\n      <td>Andorra</td>\n      <td>907</td>\n      <td>52</td>\n      <td>803</td>\n      <td>52</td>\n      <td>10</td>\n      <td>0</td>\n      <td>0</td>\n      <td>5.73</td>\n      <td>88.53</td>\n      <td>6.48</td>\n      <td>884</td>\n      <td>23</td>\n      <td>2.60</td>\n      <td>Europe</td>\n    </tr>\n    <tr>\n      <th>4</th>\n      <td>Angola</td>\n      <td>950</td>\n      <td>41</td>\n      <td>242</td>\n      <td>667</td>\n      <td>18</td>\n      <td>1</td>\n      <td>0</td>\n      <td>4.32</td>\n      <td>25.47</td>\n      <td>16.94</td>\n      <td>749</td>\n      <td>201</td>\n      <td>26.84</td>\n      <td>Africa</td>\n    </tr>\n  </tbody>\n</table>\n</div>"
     },
     "metadata": {},
     "execution_count": 11
    }
   ],
   "source": [
    "covid.head()"
   ]
  },
  {
   "cell_type": "code",
   "execution_count": 12,
   "metadata": {},
   "outputs": [
    {
     "output_type": "execute_result",
     "data": {
      "text/plain": [
       "         Country/Region  Confirmed  Deaths  Recovered  Active  New cases  \\\n",
       "182  West Bank and Gaza      10621      78       3752    6791        152   \n",
       "183      Western Sahara         10       1          8       1          0   \n",
       "184               Yemen       1691     483        833     375         10   \n",
       "185              Zambia       4552     140       2815    1597         71   \n",
       "186            Zimbabwe       2704      36        542    2126        192   \n",
       "\n",
       "     New deaths  New recovered  Deaths / 100 Cases  Recovered / 100 Cases  \\\n",
       "182           2              0                0.73                  35.33   \n",
       "183           0              0               10.00                  80.00   \n",
       "184           4             36               28.56                  49.26   \n",
       "185           1            465                3.08                  61.84   \n",
       "186           2             24                1.33                  20.04   \n",
       "\n",
       "     Deaths / 100 Recovered  Confirmed last week  1 week change  \\\n",
       "182                    2.08                 8916           1705   \n",
       "183                   12.50                   10              0   \n",
       "184                   57.98                 1619             72   \n",
       "185                    4.97                 3326           1226   \n",
       "186                    6.64                 1713            991   \n",
       "\n",
       "     1 week % increase             WHO Region  \n",
       "182              19.12  Eastern Mediterranean  \n",
       "183               0.00                 Africa  \n",
       "184               4.45  Eastern Mediterranean  \n",
       "185              36.86                 Africa  \n",
       "186              57.85                 Africa  "
      ],
      "text/html": "<div>\n<style scoped>\n    .dataframe tbody tr th:only-of-type {\n        vertical-align: middle;\n    }\n\n    .dataframe tbody tr th {\n        vertical-align: top;\n    }\n\n    .dataframe thead th {\n        text-align: right;\n    }\n</style>\n<table border=\"1\" class=\"dataframe\">\n  <thead>\n    <tr style=\"text-align: right;\">\n      <th></th>\n      <th>Country/Region</th>\n      <th>Confirmed</th>\n      <th>Deaths</th>\n      <th>Recovered</th>\n      <th>Active</th>\n      <th>New cases</th>\n      <th>New deaths</th>\n      <th>New recovered</th>\n      <th>Deaths / 100 Cases</th>\n      <th>Recovered / 100 Cases</th>\n      <th>Deaths / 100 Recovered</th>\n      <th>Confirmed last week</th>\n      <th>1 week change</th>\n      <th>1 week % increase</th>\n      <th>WHO Region</th>\n    </tr>\n  </thead>\n  <tbody>\n    <tr>\n      <th>182</th>\n      <td>West Bank and Gaza</td>\n      <td>10621</td>\n      <td>78</td>\n      <td>3752</td>\n      <td>6791</td>\n      <td>152</td>\n      <td>2</td>\n      <td>0</td>\n      <td>0.73</td>\n      <td>35.33</td>\n      <td>2.08</td>\n      <td>8916</td>\n      <td>1705</td>\n      <td>19.12</td>\n      <td>Eastern Mediterranean</td>\n    </tr>\n    <tr>\n      <th>183</th>\n      <td>Western Sahara</td>\n      <td>10</td>\n      <td>1</td>\n      <td>8</td>\n      <td>1</td>\n      <td>0</td>\n      <td>0</td>\n      <td>0</td>\n      <td>10.00</td>\n      <td>80.00</td>\n      <td>12.50</td>\n      <td>10</td>\n      <td>0</td>\n      <td>0.00</td>\n      <td>Africa</td>\n    </tr>\n    <tr>\n      <th>184</th>\n      <td>Yemen</td>\n      <td>1691</td>\n      <td>483</td>\n      <td>833</td>\n      <td>375</td>\n      <td>10</td>\n      <td>4</td>\n      <td>36</td>\n      <td>28.56</td>\n      <td>49.26</td>\n      <td>57.98</td>\n      <td>1619</td>\n      <td>72</td>\n      <td>4.45</td>\n      <td>Eastern Mediterranean</td>\n    </tr>\n    <tr>\n      <th>185</th>\n      <td>Zambia</td>\n      <td>4552</td>\n      <td>140</td>\n      <td>2815</td>\n      <td>1597</td>\n      <td>71</td>\n      <td>1</td>\n      <td>465</td>\n      <td>3.08</td>\n      <td>61.84</td>\n      <td>4.97</td>\n      <td>3326</td>\n      <td>1226</td>\n      <td>36.86</td>\n      <td>Africa</td>\n    </tr>\n    <tr>\n      <th>186</th>\n      <td>Zimbabwe</td>\n      <td>2704</td>\n      <td>36</td>\n      <td>542</td>\n      <td>2126</td>\n      <td>192</td>\n      <td>2</td>\n      <td>24</td>\n      <td>1.33</td>\n      <td>20.04</td>\n      <td>6.64</td>\n      <td>1713</td>\n      <td>991</td>\n      <td>57.85</td>\n      <td>Africa</td>\n    </tr>\n  </tbody>\n</table>\n</div>"
     },
     "metadata": {},
     "execution_count": 12
    }
   ],
   "source": [
    "covid.tail()"
   ]
  },
  {
   "source": [
    "### 데이터 접근\n",
    "- df`['column_name']` or df.column_name"
   ],
   "cell_type": "markdown",
   "metadata": {}
  },
  {
   "cell_type": "code",
   "execution_count": 13,
   "metadata": {},
   "outputs": [
    {
     "output_type": "execute_result",
     "data": {
      "text/plain": [
       "0      9796\n",
       "1      1991\n",
       "2      7973\n",
       "3        52\n",
       "4       667\n",
       "       ... \n",
       "182    6791\n",
       "183       1\n",
       "184     375\n",
       "185    1597\n",
       "186    2126\n",
       "Name: Active, Length: 187, dtype: int64"
      ]
     },
     "metadata": {},
     "execution_count": 13
    }
   ],
   "source": [
    "covid['Active']"
   ]
  },
  {
   "cell_type": "code",
   "execution_count": 14,
   "metadata": {},
   "outputs": [
    {
     "output_type": "execute_result",
     "data": {
      "text/plain": [
       "0      9796\n",
       "1      1991\n",
       "2      7973\n",
       "3        52\n",
       "4       667\n",
       "       ... \n",
       "182    6791\n",
       "183       1\n",
       "184     375\n",
       "185    1597\n",
       "186    2126\n",
       "Name: Active, Length: 187, dtype: int64"
      ]
     },
     "metadata": {},
     "execution_count": 14
    }
   ],
   "source": [
    "covid.Active"
   ]
  },
  {
   "cell_type": "code",
   "execution_count": 15,
   "metadata": {},
   "outputs": [
    {
     "output_type": "execute_result",
     "data": {
      "text/plain": [
       "  Country/Region  Confirmed  Deaths  Recovered  Active  New cases  New deaths  \\\n",
       "0    Afghanistan      36263    1269      25198    9796        106          10   \n",
       "1        Albania       4880     144       2745    1991        117           6   \n",
       "2        Algeria      27973    1163      18837    7973        616           8   \n",
       "6      Argentina     167416    3059      72575   91782       4890         120   \n",
       "8      Australia      15303     167       9311    5825        368           6   \n",
       "\n",
       "   New recovered  Deaths / 100 Cases  Recovered / 100 Cases  \\\n",
       "0             18                3.50                  69.49   \n",
       "1             63                2.95                  56.25   \n",
       "2            749                4.16                  67.34   \n",
       "6           2057                1.83                  43.35   \n",
       "8            137                1.09                  60.84   \n",
       "\n",
       "   Deaths / 100 Recovered  Confirmed last week  1 week change  \\\n",
       "0                    5.04                35526            737   \n",
       "1                    5.25                 4171            709   \n",
       "2                    6.17                23691           4282   \n",
       "6                    4.21               130774          36642   \n",
       "8                    1.79                12428           2875   \n",
       "\n",
       "   1 week % increase             WHO Region  \n",
       "0               2.07  Eastern Mediterranean  \n",
       "1              17.00                 Europe  \n",
       "2              18.07                 Africa  \n",
       "6              28.02               Americas  \n",
       "8              23.13        Western Pacific  "
      ],
      "text/html": "<div>\n<style scoped>\n    .dataframe tbody tr th:only-of-type {\n        vertical-align: middle;\n    }\n\n    .dataframe tbody tr th {\n        vertical-align: top;\n    }\n\n    .dataframe thead th {\n        text-align: right;\n    }\n</style>\n<table border=\"1\" class=\"dataframe\">\n  <thead>\n    <tr style=\"text-align: right;\">\n      <th></th>\n      <th>Country/Region</th>\n      <th>Confirmed</th>\n      <th>Deaths</th>\n      <th>Recovered</th>\n      <th>Active</th>\n      <th>New cases</th>\n      <th>New deaths</th>\n      <th>New recovered</th>\n      <th>Deaths / 100 Cases</th>\n      <th>Recovered / 100 Cases</th>\n      <th>Deaths / 100 Recovered</th>\n      <th>Confirmed last week</th>\n      <th>1 week change</th>\n      <th>1 week % increase</th>\n      <th>WHO Region</th>\n    </tr>\n  </thead>\n  <tbody>\n    <tr>\n      <th>0</th>\n      <td>Afghanistan</td>\n      <td>36263</td>\n      <td>1269</td>\n      <td>25198</td>\n      <td>9796</td>\n      <td>106</td>\n      <td>10</td>\n      <td>18</td>\n      <td>3.50</td>\n      <td>69.49</td>\n      <td>5.04</td>\n      <td>35526</td>\n      <td>737</td>\n      <td>2.07</td>\n      <td>Eastern Mediterranean</td>\n    </tr>\n    <tr>\n      <th>1</th>\n      <td>Albania</td>\n      <td>4880</td>\n      <td>144</td>\n      <td>2745</td>\n      <td>1991</td>\n      <td>117</td>\n      <td>6</td>\n      <td>63</td>\n      <td>2.95</td>\n      <td>56.25</td>\n      <td>5.25</td>\n      <td>4171</td>\n      <td>709</td>\n      <td>17.00</td>\n      <td>Europe</td>\n    </tr>\n    <tr>\n      <th>2</th>\n      <td>Algeria</td>\n      <td>27973</td>\n      <td>1163</td>\n      <td>18837</td>\n      <td>7973</td>\n      <td>616</td>\n      <td>8</td>\n      <td>749</td>\n      <td>4.16</td>\n      <td>67.34</td>\n      <td>6.17</td>\n      <td>23691</td>\n      <td>4282</td>\n      <td>18.07</td>\n      <td>Africa</td>\n    </tr>\n    <tr>\n      <th>6</th>\n      <td>Argentina</td>\n      <td>167416</td>\n      <td>3059</td>\n      <td>72575</td>\n      <td>91782</td>\n      <td>4890</td>\n      <td>120</td>\n      <td>2057</td>\n      <td>1.83</td>\n      <td>43.35</td>\n      <td>4.21</td>\n      <td>130774</td>\n      <td>36642</td>\n      <td>28.02</td>\n      <td>Americas</td>\n    </tr>\n    <tr>\n      <th>8</th>\n      <td>Australia</td>\n      <td>15303</td>\n      <td>167</td>\n      <td>9311</td>\n      <td>5825</td>\n      <td>368</td>\n      <td>6</td>\n      <td>137</td>\n      <td>1.09</td>\n      <td>60.84</td>\n      <td>1.79</td>\n      <td>12428</td>\n      <td>2875</td>\n      <td>23.13</td>\n      <td>Western Pacific</td>\n    </tr>\n  </tbody>\n</table>\n</div>"
     },
     "metadata": {},
     "execution_count": 15
    }
   ],
   "source": [
    "# 신규 확진자가 100명이 넘는 나라\n",
    "covid[covid['New cases'] > 100].head()"
   ]
  },
  {
   "cell_type": "code",
   "execution_count": 16,
   "metadata": {},
   "outputs": [
    {
     "output_type": "execute_result",
     "data": {
      "text/plain": [
       "array(['Eastern Mediterranean', 'Europe', 'Africa', 'Americas',\n",
       "       'Western Pacific', 'South-East Asia'], dtype=object)"
      ]
     },
     "metadata": {},
     "execution_count": 16
    }
   ],
   "source": [
    "covid['WHO Region'].unique()"
   ]
  },
  {
   "cell_type": "code",
   "execution_count": 17,
   "metadata": {},
   "outputs": [
    {
     "output_type": "execute_result",
     "data": {
      "text/plain": [
       "0      False\n",
       "1       True\n",
       "2      False\n",
       "3       True\n",
       "4      False\n",
       "       ...  \n",
       "182    False\n",
       "183    False\n",
       "184    False\n",
       "185    False\n",
       "186    False\n",
       "Name: WHO Region, Length: 187, dtype: bool"
      ]
     },
     "metadata": {},
     "execution_count": 17
    }
   ],
   "source": [
    "covid['WHO Region'] == 'Europe'"
   ]
  },
  {
   "cell_type": "code",
   "execution_count": 18,
   "metadata": {},
   "outputs": [
    {
     "output_type": "execute_result",
     "data": {
      "text/plain": [
       "          Available  Location        Genre\n",
       "버그란 무엇인가       True       102  Programming\n",
       "두근두근 물리학       True       215      Physics\n",
       "미분해줘 홈즈       False       323         Math"
      ],
      "text/html": "<div>\n<style scoped>\n    .dataframe tbody tr th:only-of-type {\n        vertical-align: middle;\n    }\n\n    .dataframe tbody tr th {\n        vertical-align: top;\n    }\n\n    .dataframe thead th {\n        text-align: right;\n    }\n</style>\n<table border=\"1\" class=\"dataframe\">\n  <thead>\n    <tr style=\"text-align: right;\">\n      <th></th>\n      <th>Available</th>\n      <th>Location</th>\n      <th>Genre</th>\n    </tr>\n  </thead>\n  <tbody>\n    <tr>\n      <th>버그란 무엇인가</th>\n      <td>True</td>\n      <td>102</td>\n      <td>Programming</td>\n    </tr>\n    <tr>\n      <th>두근두근 물리학</th>\n      <td>True</td>\n      <td>215</td>\n      <td>Physics</td>\n    </tr>\n    <tr>\n      <th>미분해줘 홈즈</th>\n      <td>False</td>\n      <td>323</td>\n      <td>Math</td>\n    </tr>\n  </tbody>\n</table>\n</div>"
     },
     "metadata": {},
     "execution_count": 18
    }
   ],
   "source": [
    "books_dict = {'Available':[True,True,False], 'Location':[102, 215,323], 'Genre':['Programming','Physics','Math']}\n",
    "books_df = pd.DataFrame(books_dict, index=['버그란 무엇인가', '두근두근 물리학', '미분해줘 홈즈'])\n",
    "books_df"
   ]
  },
  {
   "cell_type": "code",
   "execution_count": 19,
   "metadata": {},
   "outputs": [
    {
     "output_type": "execute_result",
     "data": {
      "text/plain": [
       "Available           True\n",
       "Location             102\n",
       "Genre        Programming\n",
       "Name: 버그란 무엇인가, dtype: object"
      ]
     },
     "metadata": {},
     "execution_count": 19
    }
   ],
   "source": [
    "books_df.loc['버그란 무엇인가']"
   ]
  },
  {
   "cell_type": "code",
   "execution_count": 20,
   "metadata": {},
   "outputs": [
    {
     "output_type": "execute_result",
     "data": {
      "text/plain": [
       "False"
      ]
     },
     "metadata": {},
     "execution_count": 20
    }
   ],
   "source": [
    "books_df.loc['미분해줘 홈즈', 'Available']"
   ]
  },
  {
   "cell_type": "code",
   "execution_count": 21,
   "metadata": {},
   "outputs": [
    {
     "output_type": "execute_result",
     "data": {
      "text/plain": [
       "102"
      ]
     },
     "metadata": {},
     "execution_count": 21
    }
   ],
   "source": [
    "books_df.iloc[0, 1]"
   ]
  },
  {
   "cell_type": "code",
   "execution_count": 22,
   "metadata": {},
   "outputs": [
    {
     "output_type": "execute_result",
     "data": {
      "text/plain": [
       "Available    True\n",
       "Location      215\n",
       "Name: 두근두근 물리학, dtype: object"
      ]
     },
     "metadata": {},
     "execution_count": 22
    }
   ],
   "source": [
    "books_df.iloc[1, 0:2]"
   ]
  },
  {
   "source": [
    "### groupby\n",
    "- split : 특정한 기준을 바탕으로 DataFrame 분할\n",
    "- aplly : 통계함수 sum(), mean(), median() 적용해서 각 데이터 압축\n",
    "- combine : apply된 결과를 바탕으로 새로운 series 생성(group_key : appiled_value)"
   ],
   "cell_type": "markdown",
   "metadata": {}
  },
  {
   "cell_type": "code",
   "execution_count": 23,
   "metadata": {},
   "outputs": [
    {
     "output_type": "execute_result",
     "data": {
      "text/plain": [
       "  Country/Region  Confirmed  Deaths  Recovered  Active  New cases  New deaths  \\\n",
       "0    Afghanistan      36263    1269      25198    9796        106          10   \n",
       "1        Albania       4880     144       2745    1991        117           6   \n",
       "2        Algeria      27973    1163      18837    7973        616           8   \n",
       "3        Andorra        907      52        803      52         10           0   \n",
       "4         Angola        950      41        242     667         18           1   \n",
       "\n",
       "   New recovered  Deaths / 100 Cases  Recovered / 100 Cases  \\\n",
       "0             18                3.50                  69.49   \n",
       "1             63                2.95                  56.25   \n",
       "2            749                4.16                  67.34   \n",
       "3              0                5.73                  88.53   \n",
       "4              0                4.32                  25.47   \n",
       "\n",
       "   Deaths / 100 Recovered  Confirmed last week  1 week change  \\\n",
       "0                    5.04                35526            737   \n",
       "1                    5.25                 4171            709   \n",
       "2                    6.17                23691           4282   \n",
       "3                    6.48                  884             23   \n",
       "4                   16.94                  749            201   \n",
       "\n",
       "   1 week % increase             WHO Region  \n",
       "0               2.07  Eastern Mediterranean  \n",
       "1              17.00                 Europe  \n",
       "2              18.07                 Africa  \n",
       "3               2.60                 Europe  \n",
       "4              26.84                 Africa  "
      ],
      "text/html": "<div>\n<style scoped>\n    .dataframe tbody tr th:only-of-type {\n        vertical-align: middle;\n    }\n\n    .dataframe tbody tr th {\n        vertical-align: top;\n    }\n\n    .dataframe thead th {\n        text-align: right;\n    }\n</style>\n<table border=\"1\" class=\"dataframe\">\n  <thead>\n    <tr style=\"text-align: right;\">\n      <th></th>\n      <th>Country/Region</th>\n      <th>Confirmed</th>\n      <th>Deaths</th>\n      <th>Recovered</th>\n      <th>Active</th>\n      <th>New cases</th>\n      <th>New deaths</th>\n      <th>New recovered</th>\n      <th>Deaths / 100 Cases</th>\n      <th>Recovered / 100 Cases</th>\n      <th>Deaths / 100 Recovered</th>\n      <th>Confirmed last week</th>\n      <th>1 week change</th>\n      <th>1 week % increase</th>\n      <th>WHO Region</th>\n    </tr>\n  </thead>\n  <tbody>\n    <tr>\n      <th>0</th>\n      <td>Afghanistan</td>\n      <td>36263</td>\n      <td>1269</td>\n      <td>25198</td>\n      <td>9796</td>\n      <td>106</td>\n      <td>10</td>\n      <td>18</td>\n      <td>3.50</td>\n      <td>69.49</td>\n      <td>5.04</td>\n      <td>35526</td>\n      <td>737</td>\n      <td>2.07</td>\n      <td>Eastern Mediterranean</td>\n    </tr>\n    <tr>\n      <th>1</th>\n      <td>Albania</td>\n      <td>4880</td>\n      <td>144</td>\n      <td>2745</td>\n      <td>1991</td>\n      <td>117</td>\n      <td>6</td>\n      <td>63</td>\n      <td>2.95</td>\n      <td>56.25</td>\n      <td>5.25</td>\n      <td>4171</td>\n      <td>709</td>\n      <td>17.00</td>\n      <td>Europe</td>\n    </tr>\n    <tr>\n      <th>2</th>\n      <td>Algeria</td>\n      <td>27973</td>\n      <td>1163</td>\n      <td>18837</td>\n      <td>7973</td>\n      <td>616</td>\n      <td>8</td>\n      <td>749</td>\n      <td>4.16</td>\n      <td>67.34</td>\n      <td>6.17</td>\n      <td>23691</td>\n      <td>4282</td>\n      <td>18.07</td>\n      <td>Africa</td>\n    </tr>\n    <tr>\n      <th>3</th>\n      <td>Andorra</td>\n      <td>907</td>\n      <td>52</td>\n      <td>803</td>\n      <td>52</td>\n      <td>10</td>\n      <td>0</td>\n      <td>0</td>\n      <td>5.73</td>\n      <td>88.53</td>\n      <td>6.48</td>\n      <td>884</td>\n      <td>23</td>\n      <td>2.60</td>\n      <td>Europe</td>\n    </tr>\n    <tr>\n      <th>4</th>\n      <td>Angola</td>\n      <td>950</td>\n      <td>41</td>\n      <td>242</td>\n      <td>667</td>\n      <td>18</td>\n      <td>1</td>\n      <td>0</td>\n      <td>4.32</td>\n      <td>25.47</td>\n      <td>16.94</td>\n      <td>749</td>\n      <td>201</td>\n      <td>26.84</td>\n      <td>Africa</td>\n    </tr>\n  </tbody>\n</table>\n</div>"
     },
     "metadata": {},
     "execution_count": 23
    }
   ],
   "source": [
    "covid.head()"
   ]
  },
  {
   "cell_type": "code",
   "execution_count": 24,
   "metadata": {},
   "outputs": [
    {
     "output_type": "execute_result",
     "data": {
      "text/plain": [
       "<pandas.core.groupby.generic.SeriesGroupBy object at 0x0000015377402A90>"
      ]
     },
     "metadata": {},
     "execution_count": 24
    }
   ],
   "source": [
    "# WHO Region 별 확진자수\n",
    "covid_by_region = covid['Confirmed'].groupby(by=covid['WHO Region'])\n",
    "covid_by_region"
   ]
  },
  {
   "cell_type": "code",
   "execution_count": 25,
   "metadata": {},
   "outputs": [
    {
     "output_type": "execute_result",
     "data": {
      "text/plain": [
       "WHO Region\n",
       "Africa                    723207\n",
       "Americas                 8839286\n",
       "Eastern Mediterranean    1490744\n",
       "Europe                   3299523\n",
       "South-East Asia          1835297\n",
       "Western Pacific           292428\n",
       "Name: Confirmed, dtype: int64"
      ]
     },
     "metadata": {},
     "execution_count": 25
    }
   ],
   "source": [
    "covid_by_region.sum()"
   ]
  },
  {
   "cell_type": "code",
   "execution_count": 26,
   "metadata": {},
   "outputs": [
    {
     "output_type": "execute_result",
     "data": {
      "text/plain": [
       "WHO Region\n",
       "Africa                    15066.812500\n",
       "Americas                 252551.028571\n",
       "Eastern Mediterranean     67761.090909\n",
       "Europe                    58920.053571\n",
       "South-East Asia          183529.700000\n",
       "Western Pacific           18276.750000\n",
       "Name: Confirmed, dtype: float64"
      ]
     },
     "metadata": {},
     "execution_count": 26
    }
   ],
   "source": [
    "# 국가당 감염자수\n",
    "covid_by_region.mean()"
   ]
  },
  {
   "cell_type": "markdown",
   "metadata": {},
   "source": [
    "## Mission:\n",
    "### 1. covid 데이터에서 100 case 대비 사망률(`Deaths / 100 Cases`)이 가장 높은 국가는?"
   ]
  },
  {
   "cell_type": "code",
   "execution_count": 12,
   "metadata": {},
   "outputs": [
    {
     "output_type": "execute_result",
     "data": {
      "text/plain": [
       "Country/Region                   Zimbabwe\n",
       "Confirmed                         4290259\n",
       "Deaths                             148011\n",
       "Recovered                         1846641\n",
       "Active                            2816444\n",
       "New cases                           56336\n",
       "New deaths                           1076\n",
       "New recovered                       33728\n",
       "Deaths / 100 Cases                  28.56\n",
       "Recovered / 100 Cases                 100\n",
       "Deaths / 100 Recovered                inf\n",
       "Confirmed last week               3834677\n",
       "1 week change                      455582\n",
       "1 week % increase                  226.32\n",
       "WHO Region                Western Pacific\n",
       "dtype: object"
      ]
     },
     "metadata": {},
     "execution_count": 12
    }
   ],
   "source": [
    "import pandas as pd\n",
    "covid = pd.read_csv('country_wise_latest.csv')\n",
    "covid_max_Deaths_100Cases = covid.max()\n",
    "covid_max_Deaths_100Cases"
   ]
  },
  {
   "cell_type": "markdown",
   "metadata": {},
   "source": [
    "### 2. covid 데이터에서 신규 확진자가 없는 나라 중 WHO Region이 'Europe'를 모두 출력하면?  \n",
    "Hint : 한 줄에 동시에 두가지 조건을 Apply하는 경우 Warning이 발생할 수 있습니다."
   ]
  },
  {
   "cell_type": "code",
   "execution_count": 17,
   "metadata": {},
   "outputs": [
    {
     "output_type": "execute_result",
     "data": {
      "text/plain": [
       "    Country/Region  Confirmed  ...  1 week % increase  WHO Region\n",
       "56         Estonia       2034  ...               0.64      Europe\n",
       "75        Holy See         12  ...               0.00      Europe\n",
       "95          Latvia       1219  ...               2.27      Europe\n",
       "100  Liechtenstein         86  ...               0.00      Europe\n",
       "113         Monaco        116  ...               6.42      Europe\n",
       "143     San Marino        699  ...               0.00      Europe\n",
       "157          Spain     272421  ...               2.86      Europe\n",
       "\n",
       "[7 rows x 15 columns]"
      ],
      "text/html": "<div>\n<style scoped>\n    .dataframe tbody tr th:only-of-type {\n        vertical-align: middle;\n    }\n\n    .dataframe tbody tr th {\n        vertical-align: top;\n    }\n\n    .dataframe thead th {\n        text-align: right;\n    }\n</style>\n<table border=\"1\" class=\"dataframe\">\n  <thead>\n    <tr style=\"text-align: right;\">\n      <th></th>\n      <th>Country/Region</th>\n      <th>Confirmed</th>\n      <th>Deaths</th>\n      <th>Recovered</th>\n      <th>Active</th>\n      <th>New cases</th>\n      <th>New deaths</th>\n      <th>New recovered</th>\n      <th>Deaths / 100 Cases</th>\n      <th>Recovered / 100 Cases</th>\n      <th>Deaths / 100 Recovered</th>\n      <th>Confirmed last week</th>\n      <th>1 week change</th>\n      <th>1 week % increase</th>\n      <th>WHO Region</th>\n    </tr>\n  </thead>\n  <tbody>\n    <tr>\n      <th>56</th>\n      <td>Estonia</td>\n      <td>2034</td>\n      <td>69</td>\n      <td>1923</td>\n      <td>42</td>\n      <td>0</td>\n      <td>0</td>\n      <td>1</td>\n      <td>3.39</td>\n      <td>94.54</td>\n      <td>3.59</td>\n      <td>2021</td>\n      <td>13</td>\n      <td>0.64</td>\n      <td>Europe</td>\n    </tr>\n    <tr>\n      <th>75</th>\n      <td>Holy See</td>\n      <td>12</td>\n      <td>0</td>\n      <td>12</td>\n      <td>0</td>\n      <td>0</td>\n      <td>0</td>\n      <td>0</td>\n      <td>0.00</td>\n      <td>100.00</td>\n      <td>0.00</td>\n      <td>12</td>\n      <td>0</td>\n      <td>0.00</td>\n      <td>Europe</td>\n    </tr>\n    <tr>\n      <th>95</th>\n      <td>Latvia</td>\n      <td>1219</td>\n      <td>31</td>\n      <td>1045</td>\n      <td>143</td>\n      <td>0</td>\n      <td>0</td>\n      <td>0</td>\n      <td>2.54</td>\n      <td>85.73</td>\n      <td>2.97</td>\n      <td>1192</td>\n      <td>27</td>\n      <td>2.27</td>\n      <td>Europe</td>\n    </tr>\n    <tr>\n      <th>100</th>\n      <td>Liechtenstein</td>\n      <td>86</td>\n      <td>1</td>\n      <td>81</td>\n      <td>4</td>\n      <td>0</td>\n      <td>0</td>\n      <td>0</td>\n      <td>1.16</td>\n      <td>94.19</td>\n      <td>1.23</td>\n      <td>86</td>\n      <td>0</td>\n      <td>0.00</td>\n      <td>Europe</td>\n    </tr>\n    <tr>\n      <th>113</th>\n      <td>Monaco</td>\n      <td>116</td>\n      <td>4</td>\n      <td>104</td>\n      <td>8</td>\n      <td>0</td>\n      <td>0</td>\n      <td>0</td>\n      <td>3.45</td>\n      <td>89.66</td>\n      <td>3.85</td>\n      <td>109</td>\n      <td>7</td>\n      <td>6.42</td>\n      <td>Europe</td>\n    </tr>\n    <tr>\n      <th>143</th>\n      <td>San Marino</td>\n      <td>699</td>\n      <td>42</td>\n      <td>657</td>\n      <td>0</td>\n      <td>0</td>\n      <td>0</td>\n      <td>0</td>\n      <td>6.01</td>\n      <td>93.99</td>\n      <td>6.39</td>\n      <td>699</td>\n      <td>0</td>\n      <td>0.00</td>\n      <td>Europe</td>\n    </tr>\n    <tr>\n      <th>157</th>\n      <td>Spain</td>\n      <td>272421</td>\n      <td>28432</td>\n      <td>150376</td>\n      <td>93613</td>\n      <td>0</td>\n      <td>0</td>\n      <td>0</td>\n      <td>10.44</td>\n      <td>55.20</td>\n      <td>18.91</td>\n      <td>264836</td>\n      <td>7585</td>\n      <td>2.86</td>\n      <td>Europe</td>\n    </tr>\n  </tbody>\n</table>\n</div>"
     },
     "metadata": {},
     "execution_count": 17
    }
   ],
   "source": [
    "covid_New_cases_is_zero = covid[covid['New cases'] == 0]\n",
    "covid_New_cases_is_zero_in_Europe = covid_New_cases_is_zero[covid_New_cases_is_zero['WHO Region'] == 'Europe']\n",
    "covid_New_cases_is_zero_in_Europe"
   ]
  },
  {
   "cell_type": "markdown",
   "metadata": {},
   "source": [
    "### 3. 다음 [데이터](https://www.kaggle.com/neuromusic/avocado-prices)를 이용해 각 Region별로 아보카도가 가장 비싼 평균가격(AveragePrice)을 출력하면?"
   ]
  },
  {
   "cell_type": "code",
   "execution_count": 24,
   "metadata": {},
   "outputs": [
    {
     "output_type": "execute_result",
     "data": {
      "text/plain": [
       "<pandas.core.groupby.generic.DataFrameGroupBy object at 0x0000019AE2AD9BE0>"
      ]
     },
     "metadata": {},
     "execution_count": 24
    }
   ],
   "source": [
    "avocado = pd.read_csv('avocado.csv')\n",
    "avocado_by_region = avocado.groupby(by='region')\n",
    "avocado_by_region"
   ]
  },
  {
   "cell_type": "code",
   "execution_count": 25,
   "metadata": {},
   "outputs": [
    {
     "output_type": "execute_result",
     "data": {
      "text/plain": [
       "                     Unnamed: 0        Date  ...     type  year\n",
       "region                                       ...               \n",
       "Albany                       52  2018-03-25  ...  organic  2018\n",
       "Atlanta                      52  2018-03-25  ...  organic  2018\n",
       "BaltimoreWashington          52  2018-03-25  ...  organic  2018\n",
       "Boise                        52  2018-03-25  ...  organic  2018\n",
       "Boston                       52  2018-03-25  ...  organic  2018\n",
       "BuffaloRochester             52  2018-03-25  ...  organic  2018\n",
       "California                   52  2018-03-25  ...  organic  2018\n",
       "Charlotte                    52  2018-03-25  ...  organic  2018\n",
       "Chicago                      52  2018-03-25  ...  organic  2018\n",
       "CincinnatiDayton             52  2018-03-25  ...  organic  2018\n",
       "Columbus                     52  2018-03-25  ...  organic  2018\n",
       "DallasFtWorth                52  2018-03-25  ...  organic  2018\n",
       "Denver                       52  2018-03-25  ...  organic  2018\n",
       "Detroit                      52  2018-03-25  ...  organic  2018\n",
       "GrandRapids                  52  2018-03-25  ...  organic  2018\n",
       "GreatLakes                   52  2018-03-25  ...  organic  2018\n",
       "HarrisburgScranton           52  2018-03-25  ...  organic  2018\n",
       "HartfordSpringfield          52  2018-03-25  ...  organic  2018\n",
       "Houston                      52  2018-03-25  ...  organic  2018\n",
       "Indianapolis                 52  2018-03-25  ...  organic  2018\n",
       "Jacksonville                 52  2018-03-25  ...  organic  2018\n",
       "LasVegas                     52  2018-03-25  ...  organic  2018\n",
       "LosAngeles                   52  2018-03-25  ...  organic  2018\n",
       "Louisville                   52  2018-03-25  ...  organic  2018\n",
       "MiamiFtLauderdale            52  2018-03-25  ...  organic  2018\n",
       "Midsouth                     52  2018-03-25  ...  organic  2018\n",
       "Nashville                    52  2018-03-25  ...  organic  2018\n",
       "NewOrleansMobile             52  2018-03-25  ...  organic  2018\n",
       "NewYork                      52  2018-03-25  ...  organic  2018\n",
       "Northeast                    52  2018-03-25  ...  organic  2018\n",
       "NorthernNewEngland           52  2018-03-25  ...  organic  2018\n",
       "Orlando                      52  2018-03-25  ...  organic  2018\n",
       "Philadelphia                 52  2018-03-25  ...  organic  2018\n",
       "PhoenixTucson                52  2018-03-25  ...  organic  2018\n",
       "Pittsburgh                   52  2018-03-25  ...  organic  2018\n",
       "Plains                       52  2018-03-25  ...  organic  2018\n",
       "Portland                     52  2018-03-25  ...  organic  2018\n",
       "RaleighGreensboro            52  2018-03-25  ...  organic  2018\n",
       "RichmondNorfolk              52  2018-03-25  ...  organic  2018\n",
       "Roanoke                      52  2018-03-25  ...  organic  2018\n",
       "Sacramento                   52  2018-03-25  ...  organic  2018\n",
       "SanDiego                     52  2018-03-25  ...  organic  2018\n",
       "SanFrancisco                 52  2018-03-25  ...  organic  2018\n",
       "Seattle                      52  2018-03-25  ...  organic  2018\n",
       "SouthCarolina                52  2018-03-25  ...  organic  2018\n",
       "SouthCentral                 52  2018-03-25  ...  organic  2018\n",
       "Southeast                    52  2018-03-25  ...  organic  2018\n",
       "Spokane                      52  2018-03-25  ...  organic  2018\n",
       "StLouis                      52  2018-03-25  ...  organic  2018\n",
       "Syracuse                     52  2018-03-25  ...  organic  2018\n",
       "Tampa                        52  2018-03-25  ...  organic  2018\n",
       "TotalUS                      52  2018-03-25  ...  organic  2018\n",
       "West                         52  2018-03-25  ...  organic  2018\n",
       "WestTexNewMexico             52  2018-03-25  ...  organic  2018\n",
       "\n",
       "[54 rows x 13 columns]"
      ],
      "text/html": "<div>\n<style scoped>\n    .dataframe tbody tr th:only-of-type {\n        vertical-align: middle;\n    }\n\n    .dataframe tbody tr th {\n        vertical-align: top;\n    }\n\n    .dataframe thead th {\n        text-align: right;\n    }\n</style>\n<table border=\"1\" class=\"dataframe\">\n  <thead>\n    <tr style=\"text-align: right;\">\n      <th></th>\n      <th>Unnamed: 0</th>\n      <th>Date</th>\n      <th>AveragePrice</th>\n      <th>Total Volume</th>\n      <th>4046</th>\n      <th>4225</th>\n      <th>4770</th>\n      <th>Total Bags</th>\n      <th>Small Bags</th>\n      <th>Large Bags</th>\n      <th>XLarge Bags</th>\n      <th>type</th>\n      <th>year</th>\n    </tr>\n    <tr>\n      <th>region</th>\n      <th></th>\n      <th></th>\n      <th></th>\n      <th></th>\n      <th></th>\n      <th></th>\n      <th></th>\n      <th></th>\n      <th></th>\n      <th></th>\n      <th></th>\n      <th></th>\n      <th></th>\n    </tr>\n  </thead>\n  <tbody>\n    <tr>\n      <th>Albany</th>\n      <td>52</td>\n      <td>2018-03-25</td>\n      <td>2.13</td>\n      <td>216738.47</td>\n      <td>34912.97</td>\n      <td>195725.06</td>\n      <td>5883.16</td>\n      <td>36806.79</td>\n      <td>30126.31</td>\n      <td>27205.98</td>\n      <td>2900.00</td>\n      <td>organic</td>\n      <td>2018</td>\n    </tr>\n    <tr>\n      <th>Atlanta</th>\n      <td>52</td>\n      <td>2018-03-25</td>\n      <td>2.75</td>\n      <td>957792.07</td>\n      <td>553198.56</td>\n      <td>211776.98</td>\n      <td>4251.74</td>\n      <td>425991.21</td>\n      <td>292317.81</td>\n      <td>217337.59</td>\n      <td>10972.77</td>\n      <td>organic</td>\n      <td>2018</td>\n    </tr>\n    <tr>\n      <th>BaltimoreWashington</th>\n      <td>52</td>\n      <td>2018-03-25</td>\n      <td>2.28</td>\n      <td>1225103.27</td>\n      <td>202958.24</td>\n      <td>805041.45</td>\n      <td>83652.48</td>\n      <td>488208.25</td>\n      <td>483402.85</td>\n      <td>43483.00</td>\n      <td>13745.00</td>\n      <td>organic</td>\n      <td>2018</td>\n    </tr>\n    <tr>\n      <th>Boise</th>\n      <td>52</td>\n      <td>2018-03-25</td>\n      <td>2.79</td>\n      <td>136377.55</td>\n      <td>69544.59</td>\n      <td>36532.33</td>\n      <td>23346.13</td>\n      <td>93735.23</td>\n      <td>93645.45</td>\n      <td>40491.57</td>\n      <td>1231.57</td>\n      <td>organic</td>\n      <td>2018</td>\n    </tr>\n    <tr>\n      <th>Boston</th>\n      <td>52</td>\n      <td>2018-03-25</td>\n      <td>2.19</td>\n      <td>999783.13</td>\n      <td>85204.27</td>\n      <td>865836.92</td>\n      <td>81859.54</td>\n      <td>220254.40</td>\n      <td>215552.06</td>\n      <td>52294.16</td>\n      <td>4745.00</td>\n      <td>organic</td>\n      <td>2018</td>\n    </tr>\n    <tr>\n      <th>BuffaloRochester</th>\n      <td>52</td>\n      <td>2018-03-25</td>\n      <td>2.57</td>\n      <td>201142.55</td>\n      <td>26274.97</td>\n      <td>99364.48</td>\n      <td>6707.85</td>\n      <td>101271.16</td>\n      <td>101271.16</td>\n      <td>62156.06</td>\n      <td>5795.00</td>\n      <td>organic</td>\n      <td>2018</td>\n    </tr>\n    <tr>\n      <th>California</th>\n      <td>52</td>\n      <td>2018-03-25</td>\n      <td>2.58</td>\n      <td>11213596.29</td>\n      <td>4794142.14</td>\n      <td>4097591.67</td>\n      <td>424389.60</td>\n      <td>3462625.70</td>\n      <td>3403581.49</td>\n      <td>508755.56</td>\n      <td>86800.09</td>\n      <td>organic</td>\n      <td>2018</td>\n    </tr>\n    <tr>\n      <th>Charlotte</th>\n      <td>52</td>\n      <td>2018-03-25</td>\n      <td>2.83</td>\n      <td>411160.94</td>\n      <td>95176.35</td>\n      <td>172311.19</td>\n      <td>80813.88</td>\n      <td>223765.32</td>\n      <td>218181.70</td>\n      <td>17681.68</td>\n      <td>5520.00</td>\n      <td>organic</td>\n      <td>2018</td>\n    </tr>\n    <tr>\n      <th>Chicago</th>\n      <td>52</td>\n      <td>2018-03-25</td>\n      <td>2.30</td>\n      <td>1802646.35</td>\n      <td>378806.26</td>\n      <td>1235325.42</td>\n      <td>224554.50</td>\n      <td>510679.10</td>\n      <td>143295.47</td>\n      <td>423185.75</td>\n      <td>11540.00</td>\n      <td>organic</td>\n      <td>2018</td>\n    </tr>\n    <tr>\n      <th>CincinnatiDayton</th>\n      <td>52</td>\n      <td>2018-03-25</td>\n      <td>2.20</td>\n      <td>538518.77</td>\n      <td>102019.45</td>\n      <td>224967.68</td>\n      <td>30149.60</td>\n      <td>397270.05</td>\n      <td>165544.38</td>\n      <td>363468.52</td>\n      <td>9387.59</td>\n      <td>organic</td>\n      <td>2018</td>\n    </tr>\n    <tr>\n      <th>Columbus</th>\n      <td>52</td>\n      <td>2018-03-25</td>\n      <td>2.22</td>\n      <td>333398.29</td>\n      <td>140453.99</td>\n      <td>61748.67</td>\n      <td>36191.68</td>\n      <td>162102.31</td>\n      <td>135610.65</td>\n      <td>39927.30</td>\n      <td>8519.43</td>\n      <td>organic</td>\n      <td>2018</td>\n    </tr>\n    <tr>\n      <th>DallasFtWorth</th>\n      <td>52</td>\n      <td>2018-03-25</td>\n      <td>1.90</td>\n      <td>1885401.44</td>\n      <td>1013252.58</td>\n      <td>509069.75</td>\n      <td>143875.64</td>\n      <td>788607.81</td>\n      <td>673212.32</td>\n      <td>187840.93</td>\n      <td>30681.22</td>\n      <td>organic</td>\n      <td>2018</td>\n    </tr>\n    <tr>\n      <th>Denver</th>\n      <td>52</td>\n      <td>2018-03-25</td>\n      <td>2.16</td>\n      <td>1381528.74</td>\n      <td>239163.63</td>\n      <td>608156.34</td>\n      <td>62908.07</td>\n      <td>749722.33</td>\n      <td>326361.97</td>\n      <td>706052.84</td>\n      <td>4612.42</td>\n      <td>organic</td>\n      <td>2018</td>\n    </tr>\n    <tr>\n      <th>Detroit</th>\n      <td>52</td>\n      <td>2018-03-25</td>\n      <td>2.08</td>\n      <td>880540.45</td>\n      <td>214826.74</td>\n      <td>287359.89</td>\n      <td>192417.10</td>\n      <td>375815.94</td>\n      <td>349596.64</td>\n      <td>89516.48</td>\n      <td>38570.18</td>\n      <td>organic</td>\n      <td>2018</td>\n    </tr>\n    <tr>\n      <th>GrandRapids</th>\n      <td>52</td>\n      <td>2018-03-25</td>\n      <td>2.73</td>\n      <td>408921.57</td>\n      <td>7888.33</td>\n      <td>298897.77</td>\n      <td>143538.35</td>\n      <td>87927.29</td>\n      <td>80548.80</td>\n      <td>26632.00</td>\n      <td>43708.82</td>\n      <td>organic</td>\n      <td>2018</td>\n    </tr>\n    <tr>\n      <th>GreatLakes</th>\n      <td>52</td>\n      <td>2018-03-25</td>\n      <td>1.98</td>\n      <td>7094764.73</td>\n      <td>1410647.88</td>\n      <td>3117639.02</td>\n      <td>704466.56</td>\n      <td>2141227.31</td>\n      <td>1436877.51</td>\n      <td>832296.70</td>\n      <td>131300.76</td>\n      <td>organic</td>\n      <td>2018</td>\n    </tr>\n    <tr>\n      <th>HarrisburgScranton</th>\n      <td>52</td>\n      <td>2018-03-25</td>\n      <td>2.27</td>\n      <td>395673.05</td>\n      <td>125847.54</td>\n      <td>247409.27</td>\n      <td>4525.24</td>\n      <td>120786.61</td>\n      <td>119477.01</td>\n      <td>28613.00</td>\n      <td>11095.48</td>\n      <td>organic</td>\n      <td>2018</td>\n    </tr>\n    <tr>\n      <th>HartfordSpringfield</th>\n      <td>52</td>\n      <td>2018-03-25</td>\n      <td>2.68</td>\n      <td>522565.33</td>\n      <td>85641.41</td>\n      <td>449501.24</td>\n      <td>23027.59</td>\n      <td>110584.26</td>\n      <td>109324.82</td>\n      <td>28942.00</td>\n      <td>3881.61</td>\n      <td>organic</td>\n      <td>2018</td>\n    </tr>\n    <tr>\n      <th>Houston</th>\n      <td>52</td>\n      <td>2018-03-25</td>\n      <td>1.92</td>\n      <td>2381742.59</td>\n      <td>1134750.48</td>\n      <td>597855.73</td>\n      <td>210029.30</td>\n      <td>1120622.10</td>\n      <td>1010539.42</td>\n      <td>629791.58</td>\n      <td>30753.33</td>\n      <td>organic</td>\n      <td>2018</td>\n    </tr>\n    <tr>\n      <th>Indianapolis</th>\n      <td>52</td>\n      <td>2018-03-25</td>\n      <td>2.10</td>\n      <td>335442.41</td>\n      <td>90305.67</td>\n      <td>181784.28</td>\n      <td>27708.02</td>\n      <td>155633.65</td>\n      <td>104102.69</td>\n      <td>111176.50</td>\n      <td>7575.88</td>\n      <td>organic</td>\n      <td>2018</td>\n    </tr>\n    <tr>\n      <th>Jacksonville</th>\n      <td>52</td>\n      <td>2018-03-25</td>\n      <td>2.99</td>\n      <td>398543.91</td>\n      <td>206007.07</td>\n      <td>70592.24</td>\n      <td>2356.55</td>\n      <td>141030.88</td>\n      <td>79274.34</td>\n      <td>92767.01</td>\n      <td>5995.00</td>\n      <td>organic</td>\n      <td>2018</td>\n    </tr>\n    <tr>\n      <th>LasVegas</th>\n      <td>52</td>\n      <td>2018-03-25</td>\n      <td>3.03</td>\n      <td>680234.93</td>\n      <td>286395.34</td>\n      <td>212174.53</td>\n      <td>18141.91</td>\n      <td>264249.77</td>\n      <td>93651.31</td>\n      <td>207843.81</td>\n      <td>1473.33</td>\n      <td>organic</td>\n      <td>2018</td>\n    </tr>\n    <tr>\n      <th>LosAngeles</th>\n      <td>52</td>\n      <td>2018-03-25</td>\n      <td>2.44</td>\n      <td>5470227.08</td>\n      <td>2914047.44</td>\n      <td>1447533.80</td>\n      <td>121002.86</td>\n      <td>2701609.82</td>\n      <td>2656630.42</td>\n      <td>362931.85</td>\n      <td>61316.94</td>\n      <td>organic</td>\n      <td>2018</td>\n    </tr>\n    <tr>\n      <th>Louisville</th>\n      <td>52</td>\n      <td>2018-03-25</td>\n      <td>2.29</td>\n      <td>169828.77</td>\n      <td>37508.86</td>\n      <td>98136.23</td>\n      <td>10193.62</td>\n      <td>78880.66</td>\n      <td>53034.96</td>\n      <td>55257.34</td>\n      <td>4074.69</td>\n      <td>organic</td>\n      <td>2018</td>\n    </tr>\n    <tr>\n      <th>MiamiFtLauderdale</th>\n      <td>52</td>\n      <td>2018-03-25</td>\n      <td>3.05</td>\n      <td>1310671.51</td>\n      <td>897435.51</td>\n      <td>281503.40</td>\n      <td>9947.00</td>\n      <td>292462.33</td>\n      <td>120093.14</td>\n      <td>220080.54</td>\n      <td>17369.72</td>\n      <td>organic</td>\n      <td>2018</td>\n    </tr>\n    <tr>\n      <th>Midsouth</th>\n      <td>52</td>\n      <td>2018-03-25</td>\n      <td>2.17</td>\n      <td>5286412.87</td>\n      <td>1259113.31</td>\n      <td>2257429.97</td>\n      <td>388259.15</td>\n      <td>2299234.65</td>\n      <td>2062091.77</td>\n      <td>280722.16</td>\n      <td>79133.56</td>\n      <td>organic</td>\n      <td>2018</td>\n    </tr>\n    <tr>\n      <th>Nashville</th>\n      <td>52</td>\n      <td>2018-03-25</td>\n      <td>2.24</td>\n      <td>391780.25</td>\n      <td>186689.66</td>\n      <td>59611.16</td>\n      <td>17578.18</td>\n      <td>193381.81</td>\n      <td>186396.09</td>\n      <td>45308.77</td>\n      <td>2780.00</td>\n      <td>organic</td>\n      <td>2018</td>\n    </tr>\n    <tr>\n      <th>NewOrleansMobile</th>\n      <td>52</td>\n      <td>2018-03-25</td>\n      <td>2.32</td>\n      <td>633235.06</td>\n      <td>400599.94</td>\n      <td>80089.33</td>\n      <td>15050.73</td>\n      <td>161891.76</td>\n      <td>128875.87</td>\n      <td>43469.83</td>\n      <td>16675.00</td>\n      <td>organic</td>\n      <td>2018</td>\n    </tr>\n    <tr>\n      <th>NewYork</th>\n      <td>52</td>\n      <td>2018-03-25</td>\n      <td>2.65</td>\n      <td>2959541.38</td>\n      <td>294591.11</td>\n      <td>2283465.22</td>\n      <td>279630.35</td>\n      <td>806773.40</td>\n      <td>774634.09</td>\n      <td>305309.26</td>\n      <td>18757.50</td>\n      <td>organic</td>\n      <td>2018</td>\n    </tr>\n    <tr>\n      <th>Northeast</th>\n      <td>52</td>\n      <td>2018-03-25</td>\n      <td>2.31</td>\n      <td>7508650.27</td>\n      <td>736158.49</td>\n      <td>5402444.45</td>\n      <td>375904.92</td>\n      <td>1925092.30</td>\n      <td>1495884.84</td>\n      <td>640105.84</td>\n      <td>69794.85</td>\n      <td>organic</td>\n      <td>2018</td>\n    </tr>\n    <tr>\n      <th>NorthernNewEngland</th>\n      <td>52</td>\n      <td>2018-03-25</td>\n      <td>1.96</td>\n      <td>847261.25</td>\n      <td>211564.36</td>\n      <td>754096.71</td>\n      <td>64720.71</td>\n      <td>196316.33</td>\n      <td>176636.74</td>\n      <td>154825.16</td>\n      <td>9655.00</td>\n      <td>organic</td>\n      <td>2018</td>\n    </tr>\n    <tr>\n      <th>Orlando</th>\n      <td>52</td>\n      <td>2018-03-25</td>\n      <td>2.87</td>\n      <td>759532.37</td>\n      <td>511953.91</td>\n      <td>151154.50</td>\n      <td>2083.82</td>\n      <td>223889.61</td>\n      <td>94810.52</td>\n      <td>155928.30</td>\n      <td>19396.39</td>\n      <td>organic</td>\n      <td>2018</td>\n    </tr>\n    <tr>\n      <th>Philadelphia</th>\n      <td>52</td>\n      <td>2018-03-25</td>\n      <td>2.45</td>\n      <td>819224.30</td>\n      <td>130162.76</td>\n      <td>511600.73</td>\n      <td>58242.14</td>\n      <td>288606.41</td>\n      <td>261473.35</td>\n      <td>54389.00</td>\n      <td>8255.40</td>\n      <td>organic</td>\n      <td>2018</td>\n    </tr>\n    <tr>\n      <th>PhoenixTucson</th>\n      <td>52</td>\n      <td>2018-03-25</td>\n      <td>2.62</td>\n      <td>2200550.27</td>\n      <td>1200632.86</td>\n      <td>531226.65</td>\n      <td>57213.24</td>\n      <td>534479.18</td>\n      <td>330740.57</td>\n      <td>330583.10</td>\n      <td>6709.75</td>\n      <td>organic</td>\n      <td>2018</td>\n    </tr>\n    <tr>\n      <th>Pittsburgh</th>\n      <td>52</td>\n      <td>2018-03-25</td>\n      <td>1.83</td>\n      <td>214738.04</td>\n      <td>107597.81</td>\n      <td>145405.43</td>\n      <td>5316.06</td>\n      <td>99834.61</td>\n      <td>48023.13</td>\n      <td>63248.94</td>\n      <td>6515.00</td>\n      <td>organic</td>\n      <td>2018</td>\n    </tr>\n    <tr>\n      <th>Plains</th>\n      <td>52</td>\n      <td>2018-03-25</td>\n      <td>2.13</td>\n      <td>3575499.21</td>\n      <td>2157030.64</td>\n      <td>1165322.88</td>\n      <td>53882.08</td>\n      <td>869560.91</td>\n      <td>717323.25</td>\n      <td>190573.14</td>\n      <td>52003.87</td>\n      <td>organic</td>\n      <td>2018</td>\n    </tr>\n    <tr>\n      <th>Portland</th>\n      <td>52</td>\n      <td>2018-03-25</td>\n      <td>2.86</td>\n      <td>1189151.17</td>\n      <td>264203.19</td>\n      <td>535324.57</td>\n      <td>45229.53</td>\n      <td>737683.65</td>\n      <td>678871.57</td>\n      <td>391141.49</td>\n      <td>7648.30</td>\n      <td>organic</td>\n      <td>2018</td>\n    </tr>\n    <tr>\n      <th>RaleighGreensboro</th>\n      <td>52</td>\n      <td>2018-03-25</td>\n      <td>3.04</td>\n      <td>552900.21</td>\n      <td>123228.06</td>\n      <td>230068.42</td>\n      <td>88450.29</td>\n      <td>320856.77</td>\n      <td>312969.23</td>\n      <td>19822.48</td>\n      <td>10935.00</td>\n      <td>organic</td>\n      <td>2018</td>\n    </tr>\n    <tr>\n      <th>RichmondNorfolk</th>\n      <td>52</td>\n      <td>2018-03-25</td>\n      <td>2.05</td>\n      <td>469093.71</td>\n      <td>145746.61</td>\n      <td>168148.89</td>\n      <td>21686.02</td>\n      <td>214438.38</td>\n      <td>187621.35</td>\n      <td>26710.36</td>\n      <td>9460.83</td>\n      <td>organic</td>\n      <td>2018</td>\n    </tr>\n    <tr>\n      <th>Roanoke</th>\n      <td>52</td>\n      <td>2018-03-25</td>\n      <td>2.27</td>\n      <td>287728.25</td>\n      <td>82020.39</td>\n      <td>79535.27</td>\n      <td>2541.99</td>\n      <td>150169.93</td>\n      <td>116918.04</td>\n      <td>32938.52</td>\n      <td>5763.33</td>\n      <td>organic</td>\n      <td>2018</td>\n    </tr>\n    <tr>\n      <th>Sacramento</th>\n      <td>52</td>\n      <td>2018-03-25</td>\n      <td>2.82</td>\n      <td>862337.10</td>\n      <td>321474.22</td>\n      <td>518775.30</td>\n      <td>34235.86</td>\n      <td>136289.77</td>\n      <td>128164.60</td>\n      <td>5504.02</td>\n      <td>7129.43</td>\n      <td>organic</td>\n      <td>2018</td>\n    </tr>\n    <tr>\n      <th>SanDiego</th>\n      <td>52</td>\n      <td>2018-03-25</td>\n      <td>2.74</td>\n      <td>917660.79</td>\n      <td>424263.68</td>\n      <td>439224.74</td>\n      <td>32042.58</td>\n      <td>378746.24</td>\n      <td>318872.23</td>\n      <td>155614.62</td>\n      <td>5649.28</td>\n      <td>organic</td>\n      <td>2018</td>\n    </tr>\n    <tr>\n      <th>SanFrancisco</th>\n      <td>52</td>\n      <td>2018-03-25</td>\n      <td>3.25</td>\n      <td>1706251.05</td>\n      <td>560686.25</td>\n      <td>1113987.54</td>\n      <td>76966.69</td>\n      <td>236417.93</td>\n      <td>231913.11</td>\n      <td>11823.61</td>\n      <td>10906.94</td>\n      <td>organic</td>\n      <td>2018</td>\n    </tr>\n    <tr>\n      <th>Seattle</th>\n      <td>52</td>\n      <td>2018-03-25</td>\n      <td>2.96</td>\n      <td>1093144.23</td>\n      <td>263440.86</td>\n      <td>578708.75</td>\n      <td>18076.48</td>\n      <td>650319.01</td>\n      <td>573866.81</td>\n      <td>312387.51</td>\n      <td>1943.12</td>\n      <td>organic</td>\n      <td>2018</td>\n    </tr>\n    <tr>\n      <th>SouthCarolina</th>\n      <td>52</td>\n      <td>2018-03-25</td>\n      <td>2.21</td>\n      <td>706098.15</td>\n      <td>365828.76</td>\n      <td>182799.50</td>\n      <td>27248.16</td>\n      <td>272030.47</td>\n      <td>200563.64</td>\n      <td>70398.75</td>\n      <td>14585.00</td>\n      <td>organic</td>\n      <td>2018</td>\n    </tr>\n    <tr>\n      <th>SouthCentral</th>\n      <td>52</td>\n      <td>2018-03-25</td>\n      <td>1.81</td>\n      <td>10323174.59</td>\n      <td>5160896.68</td>\n      <td>2390282.14</td>\n      <td>804558.25</td>\n      <td>4014132.29</td>\n      <td>3398569.92</td>\n      <td>1049435.14</td>\n      <td>108072.79</td>\n      <td>organic</td>\n      <td>2018</td>\n    </tr>\n    <tr>\n      <th>Southeast</th>\n      <td>52</td>\n      <td>2018-03-25</td>\n      <td>2.33</td>\n      <td>7545938.97</td>\n      <td>4492704.70</td>\n      <td>1537592.22</td>\n      <td>97111.62</td>\n      <td>2379984.02</td>\n      <td>1405622.59</td>\n      <td>1318520.16</td>\n      <td>92787.50</td>\n      <td>organic</td>\n      <td>2018</td>\n    </tr>\n    <tr>\n      <th>Spokane</th>\n      <td>52</td>\n      <td>2018-03-25</td>\n      <td>2.95</td>\n      <td>165785.94</td>\n      <td>46467.69</td>\n      <td>84741.31</td>\n      <td>6422.29</td>\n      <td>89795.19</td>\n      <td>75098.77</td>\n      <td>43887.36</td>\n      <td>331.90</td>\n      <td>organic</td>\n      <td>2018</td>\n    </tr>\n    <tr>\n      <th>StLouis</th>\n      <td>52</td>\n      <td>2018-03-25</td>\n      <td>2.84</td>\n      <td>348135.49</td>\n      <td>209893.28</td>\n      <td>80994.41</td>\n      <td>895.48</td>\n      <td>260500.63</td>\n      <td>225966.72</td>\n      <td>54426.61</td>\n      <td>18517.91</td>\n      <td>organic</td>\n      <td>2018</td>\n    </tr>\n    <tr>\n      <th>Syracuse</th>\n      <td>52</td>\n      <td>2018-03-25</td>\n      <td>2.44</td>\n      <td>113023.35</td>\n      <td>10004.38</td>\n      <td>78340.67</td>\n      <td>3980.63</td>\n      <td>35695.67</td>\n      <td>34559.23</td>\n      <td>22305.58</td>\n      <td>3005.00</td>\n      <td>organic</td>\n      <td>2018</td>\n    </tr>\n    <tr>\n      <th>Tampa</th>\n      <td>52</td>\n      <td>2018-03-25</td>\n      <td>3.17</td>\n      <td>893143.94</td>\n      <td>564685.19</td>\n      <td>200199.09</td>\n      <td>2087.35</td>\n      <td>260556.30</td>\n      <td>150022.99</td>\n      <td>150133.37</td>\n      <td>15976.67</td>\n      <td>organic</td>\n      <td>2018</td>\n    </tr>\n    <tr>\n      <th>TotalUS</th>\n      <td>52</td>\n      <td>2018-03-25</td>\n      <td>2.09</td>\n      <td>62505646.52</td>\n      <td>22743616.17</td>\n      <td>20470572.61</td>\n      <td>2546439.11</td>\n      <td>19373134.37</td>\n      <td>13384586.80</td>\n      <td>5719096.61</td>\n      <td>551693.65</td>\n      <td>organic</td>\n      <td>2018</td>\n    </tr>\n    <tr>\n      <th>West</th>\n      <td>52</td>\n      <td>2018-03-25</td>\n      <td>2.52</td>\n      <td>11274749.11</td>\n      <td>4377537.67</td>\n      <td>3872672.00</td>\n      <td>281618.20</td>\n      <td>4145406.70</td>\n      <td>2780258.77</td>\n      <td>2838239.39</td>\n      <td>26564.17</td>\n      <td>organic</td>\n      <td>2018</td>\n    </tr>\n    <tr>\n      <th>WestTexNewMexico</th>\n      <td>52</td>\n      <td>2018-03-25</td>\n      <td>2.93</td>\n      <td>1637554.42</td>\n      <td>1067388.68</td>\n      <td>376232.89</td>\n      <td>74916.26</td>\n      <td>424013.40</td>\n      <td>243993.80</td>\n      <td>287509.52</td>\n      <td>38120.00</td>\n      <td>organic</td>\n      <td>2018</td>\n    </tr>\n  </tbody>\n</table>\n</div>"
     },
     "metadata": {},
     "execution_count": 25
    }
   ],
   "source": [
    "avocado_by_region.max()"
   ]
  },
  {
   "cell_type": "code",
   "execution_count": null,
   "metadata": {},
   "outputs": [],
   "source": []
  }
 ],
 "metadata": {
  "kernelspec": {
   "display_name": "Python 3",
   "language": "python",
   "name": "python3"
  },
  "language_info": {
   "codemirror_mode": {
    "name": "ipython",
    "version": 3
   },
   "file_extension": ".py",
   "mimetype": "text/x-python",
   "name": "python",
   "nbconvert_exporter": "python",
   "pygments_lexer": "ipython3",
   "version": "3.8.3-final"
  }
 },
 "nbformat": 4,
 "nbformat_minor": 4
}