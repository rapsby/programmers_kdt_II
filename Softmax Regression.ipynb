{
 "cells": [
  {
   "cell_type": "code",
   "execution_count": 56,
   "metadata": {},
   "outputs": [],
   "source": [
    "import numpy as np\n",
    "import matplotlib.pyplot as plt\n",
    "from sklearn.datasets import make_classification\n",
    "import seaborn as sns"
   ]
  },
  {
   "cell_type": "code",
   "execution_count": 57,
   "metadata": {},
   "outputs": [
    {
     "output_type": "execute_result",
     "data": {
      "text/plain": [
       "dict_keys(['data', 'target', 'frame', 'categories', 'feature_names', 'target_names', 'DESCR', 'details', 'url'])"
      ]
     },
     "metadata": {},
     "execution_count": 57
    }
   ],
   "source": [
    "from sklearn.datasets import fetch_openml\n",
    "mnist = fetch_openml('mnist_784')\n",
    "mnist.keys()"
   ]
  },
  {
   "cell_type": "code",
   "execution_count": 58,
   "metadata": {},
   "outputs": [],
   "source": [
    "X, y = mnist[\"data\"], mnist[\"target\"]"
   ]
  },
  {
   "cell_type": "code",
   "execution_count": 59,
   "metadata": {},
   "outputs": [],
   "source": [
    "y = y.astype(np.uint8)"
   ]
  },
  {
   "cell_type": "code",
   "execution_count": 60,
   "metadata": {},
   "outputs": [],
   "source": [
    "from sklearn.preprocessing import OneHotEncoder\n",
    "enc = OneHotEncoder()"
   ]
  },
  {
   "cell_type": "code",
   "execution_count": 61,
   "metadata": {},
   "outputs": [
    {
     "output_type": "execute_result",
     "data": {
      "text/plain": [
       "OneHotEncoder()"
      ]
     },
     "metadata": {},
     "execution_count": 61
    }
   ],
   "source": [
    "enc.fit(y[:,np.newaxis])"
   ]
  },
  {
   "cell_type": "code",
   "execution_count": 62,
   "metadata": {},
   "outputs": [],
   "source": [
    "Y = enc.transform(y[:,np.newaxis]).toarray()"
   ]
  },
  {
   "cell_type": "code",
   "execution_count": 63,
   "metadata": {},
   "outputs": [
    {
     "output_type": "execute_result",
     "data": {
      "text/plain": [
       "(70000, 10)"
      ]
     },
     "metadata": {},
     "execution_count": 63
    }
   ],
   "source": [
    "Y.shape"
   ]
  },
  {
   "cell_type": "code",
   "execution_count": 64,
   "metadata": {},
   "outputs": [],
   "source": [
    "X_train, X_test, X_validation, y_train, y_test,y_validation = X[:50000], X[50000:60000], X[60000:], Y[:50000], Y[50000:60000], Y[60000:]"
   ]
  },
  {
   "cell_type": "code",
   "execution_count": 65,
   "metadata": {},
   "outputs": [],
   "source": [
    "X_train = X_train / 255\n",
    "X_test = X_test / 255\n",
    "X_validation = X_validation / 255"
   ]
  },
  {
   "cell_type": "code",
   "execution_count": 66,
   "metadata": {},
   "outputs": [],
   "source": [
    "def sigmoid(x):\n",
    "    return 1 / (1 + np.exp(-x))"
   ]
  },
  {
   "cell_type": "code",
   "execution_count": 67,
   "metadata": {},
   "outputs": [],
   "source": [
    "def softmax(X, W):\n",
    "    K = np.size(W, 1)\n",
    "    A = np.exp(X @ W)\n",
    "    B = np.diag(1 / (np.reshape(A @ np.ones((K,1)), -1)))\n",
    "    Y = B @ A\n",
    "    return Y"
   ]
  },
  {
   "cell_type": "code",
   "execution_count": 68,
   "metadata": {},
   "outputs": [],
   "source": [
    "def predict(X, W):\n",
    "    return np.argmax((X @ W), axis=1)"
   ]
  },
  {
   "cell_type": "code",
   "execution_count": 69,
   "metadata": {},
   "outputs": [],
   "source": [
    "def compute_cost(X, T, W, lambda_):\n",
    "    epsilon = 1e-5\n",
    "    N = len(T)\n",
    "    K = np.size(T, 1)\n",
    "    cost = - (1/N) * np.ones((1,N)) @ (np.multiply(np.log(softmax(X, W) + epsilon), T)) @ np.ones((K,1)) + lambda_ * np.linalg.norm(W, ord=2)\n",
    "\n",
    "    return cost"
   ]
  },
  {
   "cell_type": "code",
   "execution_count": 70,
   "metadata": {},
   "outputs": [],
   "source": [
    "def batch_gd(X, T, W, learning_rate, iterations, batch_size, lambda_):\n",
    "    N = len(T)\n",
    "    cost_history = np.zeros((iterations,1))\n",
    "    shuffled_indices = np.random.permutation(N)\n",
    "    X_shuffled = X[shuffled_indices]\n",
    "    T_shuffled = T[shuffled_indices]\n",
    "    for i in range(iterations):\n",
    "        j = i % N\n",
    "        X_batch = X_shuffled[j:j+batch_size]\n",
    "        T_batch = T_shuffled[j:j+batch_size]\n",
    "        # batch가 epoch 경계를 넘어가는 경우, 앞 부분으로 채워줌\n",
    "        if X_batch.shape[0] < batch_size:\n",
    "            X_batch = np.vstack((X_batch, X_shuffled[:(batch_size - X_batch.shape[0])]))\n",
    "            T_batch = np.vstack((T_batch, T_shuffled[:(batch_size - T_batch.shape[0])]))\n",
    "        W = W - (learning_rate/batch_size) * (X_batch.T @ ( softmax(X_batch, W) - T_batch) + 2 * lambda_ * W) \n",
    "         \n",
    "        cost_history[i] = compute_cost(X_batch, T_batch, W, lambda_)\n",
    "        #if i % 1000 == 0:\n",
    "        #    print(cost_history[i][0])\n",
    "\n",
    "    return (cost_history, W)"
   ]
  },
  {
   "cell_type": "code",
   "execution_count": 71,
   "metadata": {},
   "outputs": [
    {
     "output_type": "execute_result",
     "data": {
      "text/plain": [
       "<Figure size 432x288 with 0 Axes>"
      ]
     },
     "metadata": {},
     "execution_count": 71
    },
    {
     "output_type": "display_data",
     "data": {
      "text/plain": "<Figure size 432x288 with 0 Axes>"
     },
     "metadata": {}
    }
   ],
   "source": [
    "%matplotlib inline\n",
    "import matplotlib.pyplot as plt\n",
    "plt.figure()"
   ]
  },
  {
   "cell_type": "code",
   "execution_count": 72,
   "metadata": {},
   "outputs": [
    {
     "output_type": "stream",
     "name": "stdout",
     "text": [
      "lambda :  0.0\n",
      "lambda :  0.0005\n",
      "lambda :  0.001\n",
      "lambda :  0.0015\n",
      "lambda :  0.002\n",
      "lambda :  0.0025\n",
      "lambda :  0.003\n",
      "lambda :  0.0035\n",
      "lambda :  0.004\n",
      "lambda :  0.0045000000000000005\n",
      "lambda :  0.005\n",
      "lambda :  0.0055\n",
      "lambda :  0.006\n",
      "lambda :  0.006500000000000001\n",
      "lambda :  0.007\n",
      "lambda :  0.0075\n",
      "lambda :  0.008\n",
      "lambda :  0.0085\n",
      "lambda :  0.009000000000000001\n",
      "lambda :  0.0095\n",
      "lambda :  0.01\n",
      "lambda :  0.0105\n",
      "lambda :  0.011\n",
      "lambda :  0.0115\n",
      "lambda :  0.012\n",
      "lambda :  0.0125\n",
      "lambda :  0.013000000000000001\n",
      "lambda :  0.0135\n",
      "lambda :  0.014\n",
      "lambda :  0.0145\n",
      "lambda :  0.015\n",
      "lambda :  0.0155\n",
      "lambda :  0.016\n",
      "lambda :  0.0165\n",
      "lambda :  0.017\n",
      "lambda :  0.0175\n",
      "lambda :  0.018000000000000002\n",
      "lambda :  0.0185\n",
      "lambda :  0.019\n",
      "lambda :  0.0195\n",
      "lambda :  0.02\n",
      "lambda :  0.0205\n",
      "lambda :  0.021\n",
      "lambda :  0.021500000000000002\n",
      "lambda :  0.022\n",
      "lambda :  0.0225\n",
      "lambda :  0.023\n",
      "lambda :  0.0235\n",
      "lambda :  0.024\n",
      "lambda :  0.0245\n",
      "lambda :  0.025\n",
      "lambda :  0.025500000000000002\n",
      "lambda :  0.026000000000000002\n",
      "lambda :  0.0265\n",
      "lambda :  0.027\n",
      "lambda :  0.0275\n",
      "lambda :  0.028\n",
      "lambda :  0.0285\n",
      "lambda :  0.029\n",
      "lambda :  0.029500000000000002\n",
      "lambda :  0.03\n",
      "lambda :  0.0305\n",
      "lambda :  0.031\n",
      "lambda :  0.0315\n",
      "lambda :  0.032\n",
      "lambda :  0.0325\n",
      "lambda :  0.033\n",
      "lambda :  0.0335\n",
      "lambda :  0.034\n",
      "lambda :  0.0345\n",
      "lambda :  0.035\n",
      "lambda :  0.035500000000000004\n",
      "lambda :  0.036000000000000004\n",
      "lambda :  0.0365\n",
      "lambda :  0.037\n",
      "lambda :  0.0375\n",
      "lambda :  0.038\n",
      "lambda :  0.0385\n",
      "lambda :  0.039\n",
      "lambda :  0.0395\n",
      "lambda :  0.04\n",
      "lambda :  0.0405\n",
      "lambda :  0.041\n",
      "lambda :  0.0415\n",
      "lambda :  0.042\n",
      "lambda :  0.0425\n",
      "lambda :  0.043000000000000003\n",
      "lambda :  0.043500000000000004\n",
      "lambda :  0.044\n",
      "lambda :  0.0445\n",
      "lambda :  0.045\n",
      "lambda :  0.0455\n",
      "lambda :  0.046\n",
      "lambda :  0.0465\n",
      "lambda :  0.047\n",
      "lambda :  0.0475\n",
      "lambda :  0.048\n",
      "lambda :  0.0485\n",
      "lambda :  0.049\n",
      "lambda :  0.0495\n",
      "lambda :  0.05\n",
      "lambda :  0.0505\n",
      "lambda :  0.051000000000000004\n",
      "lambda :  0.051500000000000004\n",
      "lambda :  0.052000000000000005\n",
      "lambda :  0.0525\n",
      "lambda :  0.053\n",
      "lambda :  0.0535\n",
      "lambda :  0.054\n",
      "lambda :  0.0545\n",
      "lambda :  0.055\n",
      "lambda :  0.0555\n",
      "lambda :  0.056\n",
      "lambda :  0.0565\n",
      "lambda :  0.057\n",
      "lambda :  0.0575\n",
      "lambda :  0.058\n",
      "lambda :  0.0585\n",
      "lambda :  0.059000000000000004\n",
      "lambda :  0.059500000000000004\n",
      "lambda :  0.06\n",
      "lambda :  0.0605\n",
      "lambda :  0.061\n",
      "lambda :  0.0615\n",
      "lambda :  0.062\n",
      "lambda :  0.0625\n",
      "lambda :  0.063\n",
      "lambda :  0.0635\n",
      "lambda :  0.064\n",
      "lambda :  0.0645\n",
      "lambda :  0.065\n",
      "lambda :  0.0655\n",
      "lambda :  0.066\n",
      "lambda :  0.0665\n",
      "lambda :  0.067\n",
      "lambda :  0.0675\n",
      "lambda :  0.068\n",
      "lambda :  0.0685\n",
      "lambda :  0.069\n",
      "lambda :  0.0695\n",
      "lambda :  0.07\n",
      "lambda :  0.07050000000000001\n",
      "lambda :  0.07100000000000001\n",
      "lambda :  0.07150000000000001\n",
      "lambda :  0.07200000000000001\n",
      "lambda :  0.0725\n",
      "lambda :  0.073\n",
      "lambda :  0.0735\n",
      "lambda :  0.074\n",
      "lambda :  0.0745\n",
      "lambda :  0.075\n",
      "lambda :  0.0755\n",
      "lambda :  0.076\n",
      "lambda :  0.0765\n",
      "lambda :  0.077\n",
      "lambda :  0.0775\n",
      "lambda :  0.078\n",
      "lambda :  0.0785\n",
      "lambda :  0.079\n",
      "lambda :  0.0795\n",
      "lambda :  0.08\n",
      "lambda :  0.0805\n",
      "lambda :  0.081\n",
      "lambda :  0.0815\n",
      "lambda :  0.082\n",
      "lambda :  0.0825\n",
      "lambda :  0.083\n",
      "lambda :  0.0835\n",
      "lambda :  0.084\n",
      "lambda :  0.0845\n",
      "lambda :  0.085\n",
      "lambda :  0.0855\n",
      "lambda :  0.08600000000000001\n",
      "lambda :  0.08650000000000001\n",
      "lambda :  0.08700000000000001\n",
      "lambda :  0.08750000000000001\n",
      "lambda :  0.088\n",
      "lambda :  0.0885\n",
      "lambda :  0.089\n",
      "lambda :  0.0895\n",
      "lambda :  0.09\n",
      "lambda :  0.0905\n",
      "lambda :  0.091\n",
      "lambda :  0.0915\n",
      "lambda :  0.092\n",
      "lambda :  0.0925\n",
      "lambda :  0.093\n",
      "lambda :  0.0935\n",
      "lambda :  0.094\n",
      "lambda :  0.0945\n",
      "lambda :  0.095\n",
      "lambda :  0.0955\n",
      "lambda :  0.096\n",
      "lambda :  0.0965\n",
      "lambda :  0.097\n",
      "lambda :  0.0975\n",
      "lambda :  0.098\n",
      "lambda :  0.0985\n",
      "lambda :  0.099\n",
      "lambda :  0.0995\n"
     ]
    },
    {
     "output_type": "display_data",
     "data": {
      "text/plain": "<Figure size 432x288 with 1 Axes>",
      "image/svg+xml": "<?xml version=\"1.0\" encoding=\"utf-8\" standalone=\"no\"?>\r\n<!DOCTYPE svg PUBLIC \"-//W3C//DTD SVG 1.1//EN\"\r\n  \"http://www.w3.org/Graphics/SVG/1.1/DTD/svg11.dtd\">\r\n<!-- Created with matplotlib (https://matplotlib.org/) -->\r\n<svg height=\"248.518125pt\" version=\"1.1\" viewBox=\"0 0 391.190625 248.518125\" width=\"391.190625pt\" xmlns=\"http://www.w3.org/2000/svg\" xmlns:xlink=\"http://www.w3.org/1999/xlink\">\r\n <defs>\r\n  <style type=\"text/css\">\r\n*{stroke-linecap:butt;stroke-linejoin:round;}\r\n  </style>\r\n </defs>\r\n <g id=\"figure_1\">\r\n  <g id=\"patch_1\">\r\n   <path d=\"M 0 248.518125 \r\nL 391.190625 248.518125 \r\nL 391.190625 0 \r\nL 0 0 \r\nz\r\n\" style=\"fill:none;\"/>\r\n  </g>\r\n  <g id=\"axes_1\">\r\n   <g id=\"patch_2\">\r\n    <path d=\"M 49.190625 224.64 \r\nL 383.990625 224.64 \r\nL 383.990625 7.2 \r\nL 49.190625 7.2 \r\nz\r\n\" style=\"fill:#ffffff;\"/>\r\n   </g>\r\n   <g id=\"matplotlib.axis_1\">\r\n    <g id=\"xtick_1\">\r\n     <g id=\"line2d_1\">\r\n      <defs>\r\n       <path d=\"M 0 0 \r\nL 0 3.5 \r\n\" id=\"m0dd92daee5\" style=\"stroke:#000000;stroke-width:0.8;\"/>\r\n      </defs>\r\n      <g>\r\n       <use style=\"stroke:#000000;stroke-width:0.8;\" x=\"64.408807\" xlink:href=\"#m0dd92daee5\" y=\"224.64\"/>\r\n      </g>\r\n     </g>\r\n     <g id=\"text_1\">\r\n      <!-- 0.00 -->\r\n      <defs>\r\n       <path d=\"M 31.78125 66.40625 \r\nQ 24.171875 66.40625 20.328125 58.90625 \r\nQ 16.5 51.421875 16.5 36.375 \r\nQ 16.5 21.390625 20.328125 13.890625 \r\nQ 24.171875 6.390625 31.78125 6.390625 \r\nQ 39.453125 6.390625 43.28125 13.890625 \r\nQ 47.125 21.390625 47.125 36.375 \r\nQ 47.125 51.421875 43.28125 58.90625 \r\nQ 39.453125 66.40625 31.78125 66.40625 \r\nz\r\nM 31.78125 74.21875 \r\nQ 44.046875 74.21875 50.515625 64.515625 \r\nQ 56.984375 54.828125 56.984375 36.375 \r\nQ 56.984375 17.96875 50.515625 8.265625 \r\nQ 44.046875 -1.421875 31.78125 -1.421875 \r\nQ 19.53125 -1.421875 13.0625 8.265625 \r\nQ 6.59375 17.96875 6.59375 36.375 \r\nQ 6.59375 54.828125 13.0625 64.515625 \r\nQ 19.53125 74.21875 31.78125 74.21875 \r\nz\r\n\" id=\"DejaVuSans-48\"/>\r\n       <path d=\"M 10.6875 12.40625 \r\nL 21 12.40625 \r\nL 21 0 \r\nL 10.6875 0 \r\nz\r\n\" id=\"DejaVuSans-46\"/>\r\n      </defs>\r\n      <g transform=\"translate(53.275994 239.238438)scale(0.1 -0.1)\">\r\n       <use xlink:href=\"#DejaVuSans-48\"/>\r\n       <use x=\"63.623047\" xlink:href=\"#DejaVuSans-46\"/>\r\n       <use x=\"95.410156\" xlink:href=\"#DejaVuSans-48\"/>\r\n       <use x=\"159.033203\" xlink:href=\"#DejaVuSans-48\"/>\r\n      </g>\r\n     </g>\r\n    </g>\r\n    <g id=\"xtick_2\">\r\n     <g id=\"line2d_2\">\r\n      <g>\r\n       <use style=\"stroke:#000000;stroke-width:0.8;\" x=\"125.587427\" xlink:href=\"#m0dd92daee5\" y=\"224.64\"/>\r\n      </g>\r\n     </g>\r\n     <g id=\"text_2\">\r\n      <!-- 0.02 -->\r\n      <defs>\r\n       <path d=\"M 19.1875 8.296875 \r\nL 53.609375 8.296875 \r\nL 53.609375 0 \r\nL 7.328125 0 \r\nL 7.328125 8.296875 \r\nQ 12.9375 14.109375 22.625 23.890625 \r\nQ 32.328125 33.6875 34.8125 36.53125 \r\nQ 39.546875 41.84375 41.421875 45.53125 \r\nQ 43.3125 49.21875 43.3125 52.78125 \r\nQ 43.3125 58.59375 39.234375 62.25 \r\nQ 35.15625 65.921875 28.609375 65.921875 \r\nQ 23.96875 65.921875 18.8125 64.3125 \r\nQ 13.671875 62.703125 7.8125 59.421875 \r\nL 7.8125 69.390625 \r\nQ 13.765625 71.78125 18.9375 73 \r\nQ 24.125 74.21875 28.421875 74.21875 \r\nQ 39.75 74.21875 46.484375 68.546875 \r\nQ 53.21875 62.890625 53.21875 53.421875 \r\nQ 53.21875 48.921875 51.53125 44.890625 \r\nQ 49.859375 40.875 45.40625 35.40625 \r\nQ 44.1875 33.984375 37.640625 27.21875 \r\nQ 31.109375 20.453125 19.1875 8.296875 \r\nz\r\n\" id=\"DejaVuSans-50\"/>\r\n      </defs>\r\n      <g transform=\"translate(114.454615 239.238438)scale(0.1 -0.1)\">\r\n       <use xlink:href=\"#DejaVuSans-48\"/>\r\n       <use x=\"63.623047\" xlink:href=\"#DejaVuSans-46\"/>\r\n       <use x=\"95.410156\" xlink:href=\"#DejaVuSans-48\"/>\r\n       <use x=\"159.033203\" xlink:href=\"#DejaVuSans-50\"/>\r\n      </g>\r\n     </g>\r\n    </g>\r\n    <g id=\"xtick_3\">\r\n     <g id=\"line2d_3\">\r\n      <g>\r\n       <use style=\"stroke:#000000;stroke-width:0.8;\" x=\"186.766048\" xlink:href=\"#m0dd92daee5\" y=\"224.64\"/>\r\n      </g>\r\n     </g>\r\n     <g id=\"text_3\">\r\n      <!-- 0.04 -->\r\n      <defs>\r\n       <path d=\"M 37.796875 64.3125 \r\nL 12.890625 25.390625 \r\nL 37.796875 25.390625 \r\nz\r\nM 35.203125 72.90625 \r\nL 47.609375 72.90625 \r\nL 47.609375 25.390625 \r\nL 58.015625 25.390625 \r\nL 58.015625 17.1875 \r\nL 47.609375 17.1875 \r\nL 47.609375 0 \r\nL 37.796875 0 \r\nL 37.796875 17.1875 \r\nL 4.890625 17.1875 \r\nL 4.890625 26.703125 \r\nz\r\n\" id=\"DejaVuSans-52\"/>\r\n      </defs>\r\n      <g transform=\"translate(175.633235 239.238438)scale(0.1 -0.1)\">\r\n       <use xlink:href=\"#DejaVuSans-48\"/>\r\n       <use x=\"63.623047\" xlink:href=\"#DejaVuSans-46\"/>\r\n       <use x=\"95.410156\" xlink:href=\"#DejaVuSans-48\"/>\r\n       <use x=\"159.033203\" xlink:href=\"#DejaVuSans-52\"/>\r\n      </g>\r\n     </g>\r\n    </g>\r\n    <g id=\"xtick_4\">\r\n     <g id=\"line2d_4\">\r\n      <g>\r\n       <use style=\"stroke:#000000;stroke-width:0.8;\" x=\"247.944668\" xlink:href=\"#m0dd92daee5\" y=\"224.64\"/>\r\n      </g>\r\n     </g>\r\n     <g id=\"text_4\">\r\n      <!-- 0.06 -->\r\n      <defs>\r\n       <path d=\"M 33.015625 40.375 \r\nQ 26.375 40.375 22.484375 35.828125 \r\nQ 18.609375 31.296875 18.609375 23.390625 \r\nQ 18.609375 15.53125 22.484375 10.953125 \r\nQ 26.375 6.390625 33.015625 6.390625 \r\nQ 39.65625 6.390625 43.53125 10.953125 \r\nQ 47.40625 15.53125 47.40625 23.390625 \r\nQ 47.40625 31.296875 43.53125 35.828125 \r\nQ 39.65625 40.375 33.015625 40.375 \r\nz\r\nM 52.59375 71.296875 \r\nL 52.59375 62.3125 \r\nQ 48.875 64.0625 45.09375 64.984375 \r\nQ 41.3125 65.921875 37.59375 65.921875 \r\nQ 27.828125 65.921875 22.671875 59.328125 \r\nQ 17.53125 52.734375 16.796875 39.40625 \r\nQ 19.671875 43.65625 24.015625 45.921875 \r\nQ 28.375 48.1875 33.59375 48.1875 \r\nQ 44.578125 48.1875 50.953125 41.515625 \r\nQ 57.328125 34.859375 57.328125 23.390625 \r\nQ 57.328125 12.15625 50.6875 5.359375 \r\nQ 44.046875 -1.421875 33.015625 -1.421875 \r\nQ 20.359375 -1.421875 13.671875 8.265625 \r\nQ 6.984375 17.96875 6.984375 36.375 \r\nQ 6.984375 53.65625 15.1875 63.9375 \r\nQ 23.390625 74.21875 37.203125 74.21875 \r\nQ 40.921875 74.21875 44.703125 73.484375 \r\nQ 48.484375 72.75 52.59375 71.296875 \r\nz\r\n\" id=\"DejaVuSans-54\"/>\r\n      </defs>\r\n      <g transform=\"translate(236.811855 239.238438)scale(0.1 -0.1)\">\r\n       <use xlink:href=\"#DejaVuSans-48\"/>\r\n       <use x=\"63.623047\" xlink:href=\"#DejaVuSans-46\"/>\r\n       <use x=\"95.410156\" xlink:href=\"#DejaVuSans-48\"/>\r\n       <use x=\"159.033203\" xlink:href=\"#DejaVuSans-54\"/>\r\n      </g>\r\n     </g>\r\n    </g>\r\n    <g id=\"xtick_5\">\r\n     <g id=\"line2d_5\">\r\n      <g>\r\n       <use style=\"stroke:#000000;stroke-width:0.8;\" x=\"309.123288\" xlink:href=\"#m0dd92daee5\" y=\"224.64\"/>\r\n      </g>\r\n     </g>\r\n     <g id=\"text_5\">\r\n      <!-- 0.08 -->\r\n      <defs>\r\n       <path d=\"M 31.78125 34.625 \r\nQ 24.75 34.625 20.71875 30.859375 \r\nQ 16.703125 27.09375 16.703125 20.515625 \r\nQ 16.703125 13.921875 20.71875 10.15625 \r\nQ 24.75 6.390625 31.78125 6.390625 \r\nQ 38.8125 6.390625 42.859375 10.171875 \r\nQ 46.921875 13.96875 46.921875 20.515625 \r\nQ 46.921875 27.09375 42.890625 30.859375 \r\nQ 38.875 34.625 31.78125 34.625 \r\nz\r\nM 21.921875 38.8125 \r\nQ 15.578125 40.375 12.03125 44.71875 \r\nQ 8.5 49.078125 8.5 55.328125 \r\nQ 8.5 64.0625 14.71875 69.140625 \r\nQ 20.953125 74.21875 31.78125 74.21875 \r\nQ 42.671875 74.21875 48.875 69.140625 \r\nQ 55.078125 64.0625 55.078125 55.328125 \r\nQ 55.078125 49.078125 51.53125 44.71875 \r\nQ 48 40.375 41.703125 38.8125 \r\nQ 48.828125 37.15625 52.796875 32.3125 \r\nQ 56.78125 27.484375 56.78125 20.515625 \r\nQ 56.78125 9.90625 50.3125 4.234375 \r\nQ 43.84375 -1.421875 31.78125 -1.421875 \r\nQ 19.734375 -1.421875 13.25 4.234375 \r\nQ 6.78125 9.90625 6.78125 20.515625 \r\nQ 6.78125 27.484375 10.78125 32.3125 \r\nQ 14.796875 37.15625 21.921875 38.8125 \r\nz\r\nM 18.3125 54.390625 \r\nQ 18.3125 48.734375 21.84375 45.5625 \r\nQ 25.390625 42.390625 31.78125 42.390625 \r\nQ 38.140625 42.390625 41.71875 45.5625 \r\nQ 45.3125 48.734375 45.3125 54.390625 \r\nQ 45.3125 60.0625 41.71875 63.234375 \r\nQ 38.140625 66.40625 31.78125 66.40625 \r\nQ 25.390625 66.40625 21.84375 63.234375 \r\nQ 18.3125 60.0625 18.3125 54.390625 \r\nz\r\n\" id=\"DejaVuSans-56\"/>\r\n      </defs>\r\n      <g transform=\"translate(297.990476 239.238438)scale(0.1 -0.1)\">\r\n       <use xlink:href=\"#DejaVuSans-48\"/>\r\n       <use x=\"63.623047\" xlink:href=\"#DejaVuSans-46\"/>\r\n       <use x=\"95.410156\" xlink:href=\"#DejaVuSans-48\"/>\r\n       <use x=\"159.033203\" xlink:href=\"#DejaVuSans-56\"/>\r\n      </g>\r\n     </g>\r\n    </g>\r\n    <g id=\"xtick_6\">\r\n     <g id=\"line2d_6\">\r\n      <g>\r\n       <use style=\"stroke:#000000;stroke-width:0.8;\" x=\"370.301909\" xlink:href=\"#m0dd92daee5\" y=\"224.64\"/>\r\n      </g>\r\n     </g>\r\n     <g id=\"text_6\">\r\n      <!-- 0.10 -->\r\n      <defs>\r\n       <path d=\"M 12.40625 8.296875 \r\nL 28.515625 8.296875 \r\nL 28.515625 63.921875 \r\nL 10.984375 60.40625 \r\nL 10.984375 69.390625 \r\nL 28.421875 72.90625 \r\nL 38.28125 72.90625 \r\nL 38.28125 8.296875 \r\nL 54.390625 8.296875 \r\nL 54.390625 0 \r\nL 12.40625 0 \r\nz\r\n\" id=\"DejaVuSans-49\"/>\r\n      </defs>\r\n      <g transform=\"translate(359.169096 239.238438)scale(0.1 -0.1)\">\r\n       <use xlink:href=\"#DejaVuSans-48\"/>\r\n       <use x=\"63.623047\" xlink:href=\"#DejaVuSans-46\"/>\r\n       <use x=\"95.410156\" xlink:href=\"#DejaVuSans-49\"/>\r\n       <use x=\"159.033203\" xlink:href=\"#DejaVuSans-48\"/>\r\n      </g>\r\n     </g>\r\n    </g>\r\n   </g>\r\n   <g id=\"matplotlib.axis_2\">\r\n    <g id=\"ytick_1\">\r\n     <g id=\"line2d_7\">\r\n      <defs>\r\n       <path d=\"M 0 0 \r\nL -3.5 0 \r\n\" id=\"m4f99c7647b\" style=\"stroke:#000000;stroke-width:0.8;\"/>\r\n      </defs>\r\n      <g>\r\n       <use style=\"stroke:#000000;stroke-width:0.8;\" x=\"49.190625\" xlink:href=\"#m4f99c7647b\" y=\"219.773438\"/>\r\n      </g>\r\n     </g>\r\n     <g id=\"text_7\">\r\n      <!-- 0.8975 -->\r\n      <defs>\r\n       <path d=\"M 10.984375 1.515625 \r\nL 10.984375 10.5 \r\nQ 14.703125 8.734375 18.5 7.8125 \r\nQ 22.3125 6.890625 25.984375 6.890625 \r\nQ 35.75 6.890625 40.890625 13.453125 \r\nQ 46.046875 20.015625 46.78125 33.40625 \r\nQ 43.953125 29.203125 39.59375 26.953125 \r\nQ 35.25 24.703125 29.984375 24.703125 \r\nQ 19.046875 24.703125 12.671875 31.3125 \r\nQ 6.296875 37.9375 6.296875 49.421875 \r\nQ 6.296875 60.640625 12.9375 67.421875 \r\nQ 19.578125 74.21875 30.609375 74.21875 \r\nQ 43.265625 74.21875 49.921875 64.515625 \r\nQ 56.59375 54.828125 56.59375 36.375 \r\nQ 56.59375 19.140625 48.40625 8.859375 \r\nQ 40.234375 -1.421875 26.421875 -1.421875 \r\nQ 22.703125 -1.421875 18.890625 -0.6875 \r\nQ 15.09375 0.046875 10.984375 1.515625 \r\nz\r\nM 30.609375 32.421875 \r\nQ 37.25 32.421875 41.125 36.953125 \r\nQ 45.015625 41.5 45.015625 49.421875 \r\nQ 45.015625 57.28125 41.125 61.84375 \r\nQ 37.25 66.40625 30.609375 66.40625 \r\nQ 23.96875 66.40625 20.09375 61.84375 \r\nQ 16.21875 57.28125 16.21875 49.421875 \r\nQ 16.21875 41.5 20.09375 36.953125 \r\nQ 23.96875 32.421875 30.609375 32.421875 \r\nz\r\n\" id=\"DejaVuSans-57\"/>\r\n       <path d=\"M 8.203125 72.90625 \r\nL 55.078125 72.90625 \r\nL 55.078125 68.703125 \r\nL 28.609375 0 \r\nL 18.3125 0 \r\nL 43.21875 64.59375 \r\nL 8.203125 64.59375 \r\nz\r\n\" id=\"DejaVuSans-55\"/>\r\n       <path d=\"M 10.796875 72.90625 \r\nL 49.515625 72.90625 \r\nL 49.515625 64.59375 \r\nL 19.828125 64.59375 \r\nL 19.828125 46.734375 \r\nQ 21.96875 47.46875 24.109375 47.828125 \r\nQ 26.265625 48.1875 28.421875 48.1875 \r\nQ 40.625 48.1875 47.75 41.5 \r\nQ 54.890625 34.8125 54.890625 23.390625 \r\nQ 54.890625 11.625 47.5625 5.09375 \r\nQ 40.234375 -1.421875 26.90625 -1.421875 \r\nQ 22.3125 -1.421875 17.546875 -0.640625 \r\nQ 12.796875 0.140625 7.71875 1.703125 \r\nL 7.71875 11.625 \r\nQ 12.109375 9.234375 16.796875 8.0625 \r\nQ 21.484375 6.890625 26.703125 6.890625 \r\nQ 35.15625 6.890625 40.078125 11.328125 \r\nQ 45.015625 15.765625 45.015625 23.390625 \r\nQ 45.015625 31 40.078125 35.4375 \r\nQ 35.15625 39.890625 26.703125 39.890625 \r\nQ 22.75 39.890625 18.8125 39.015625 \r\nQ 14.890625 38.140625 10.796875 36.28125 \r\nz\r\n\" id=\"DejaVuSans-53\"/>\r\n      </defs>\r\n      <g transform=\"translate(7.2 223.572657)scale(0.1 -0.1)\">\r\n       <use xlink:href=\"#DejaVuSans-48\"/>\r\n       <use x=\"63.623047\" xlink:href=\"#DejaVuSans-46\"/>\r\n       <use x=\"95.410156\" xlink:href=\"#DejaVuSans-56\"/>\r\n       <use x=\"159.033203\" xlink:href=\"#DejaVuSans-57\"/>\r\n       <use x=\"222.65625\" xlink:href=\"#DejaVuSans-55\"/>\r\n       <use x=\"286.279297\" xlink:href=\"#DejaVuSans-53\"/>\r\n      </g>\r\n     </g>\r\n    </g>\r\n    <g id=\"ytick_2\">\r\n     <g id=\"line2d_8\">\r\n      <g>\r\n       <use style=\"stroke:#000000;stroke-width:0.8;\" x=\"49.190625\" xlink:href=\"#m4f99c7647b\" y=\"194.688066\"/>\r\n      </g>\r\n     </g>\r\n     <g id=\"text_8\">\r\n      <!-- 0.9000 -->\r\n      <g transform=\"translate(7.2 198.487285)scale(0.1 -0.1)\">\r\n       <use xlink:href=\"#DejaVuSans-48\"/>\r\n       <use x=\"63.623047\" xlink:href=\"#DejaVuSans-46\"/>\r\n       <use x=\"95.410156\" xlink:href=\"#DejaVuSans-57\"/>\r\n       <use x=\"159.033203\" xlink:href=\"#DejaVuSans-48\"/>\r\n       <use x=\"222.65625\" xlink:href=\"#DejaVuSans-48\"/>\r\n       <use x=\"286.279297\" xlink:href=\"#DejaVuSans-48\"/>\r\n      </g>\r\n     </g>\r\n    </g>\r\n    <g id=\"ytick_3\">\r\n     <g id=\"line2d_9\">\r\n      <g>\r\n       <use style=\"stroke:#000000;stroke-width:0.8;\" x=\"49.190625\" xlink:href=\"#m4f99c7647b\" y=\"169.602695\"/>\r\n      </g>\r\n     </g>\r\n     <g id=\"text_9\">\r\n      <!-- 0.9025 -->\r\n      <g transform=\"translate(7.2 173.401914)scale(0.1 -0.1)\">\r\n       <use xlink:href=\"#DejaVuSans-48\"/>\r\n       <use x=\"63.623047\" xlink:href=\"#DejaVuSans-46\"/>\r\n       <use x=\"95.410156\" xlink:href=\"#DejaVuSans-57\"/>\r\n       <use x=\"159.033203\" xlink:href=\"#DejaVuSans-48\"/>\r\n       <use x=\"222.65625\" xlink:href=\"#DejaVuSans-50\"/>\r\n       <use x=\"286.279297\" xlink:href=\"#DejaVuSans-53\"/>\r\n      </g>\r\n     </g>\r\n    </g>\r\n    <g id=\"ytick_4\">\r\n     <g id=\"line2d_10\">\r\n      <g>\r\n       <use style=\"stroke:#000000;stroke-width:0.8;\" x=\"49.190625\" xlink:href=\"#m4f99c7647b\" y=\"144.517323\"/>\r\n      </g>\r\n     </g>\r\n     <g id=\"text_10\">\r\n      <!-- 0.9050 -->\r\n      <g transform=\"translate(7.2 148.316542)scale(0.1 -0.1)\">\r\n       <use xlink:href=\"#DejaVuSans-48\"/>\r\n       <use x=\"63.623047\" xlink:href=\"#DejaVuSans-46\"/>\r\n       <use x=\"95.410156\" xlink:href=\"#DejaVuSans-57\"/>\r\n       <use x=\"159.033203\" xlink:href=\"#DejaVuSans-48\"/>\r\n       <use x=\"222.65625\" xlink:href=\"#DejaVuSans-53\"/>\r\n       <use x=\"286.279297\" xlink:href=\"#DejaVuSans-48\"/>\r\n      </g>\r\n     </g>\r\n    </g>\r\n    <g id=\"ytick_5\">\r\n     <g id=\"line2d_11\">\r\n      <g>\r\n       <use style=\"stroke:#000000;stroke-width:0.8;\" x=\"49.190625\" xlink:href=\"#m4f99c7647b\" y=\"119.431952\"/>\r\n      </g>\r\n     </g>\r\n     <g id=\"text_11\">\r\n      <!-- 0.9075 -->\r\n      <g transform=\"translate(7.2 123.231171)scale(0.1 -0.1)\">\r\n       <use xlink:href=\"#DejaVuSans-48\"/>\r\n       <use x=\"63.623047\" xlink:href=\"#DejaVuSans-46\"/>\r\n       <use x=\"95.410156\" xlink:href=\"#DejaVuSans-57\"/>\r\n       <use x=\"159.033203\" xlink:href=\"#DejaVuSans-48\"/>\r\n       <use x=\"222.65625\" xlink:href=\"#DejaVuSans-55\"/>\r\n       <use x=\"286.279297\" xlink:href=\"#DejaVuSans-53\"/>\r\n      </g>\r\n     </g>\r\n    </g>\r\n    <g id=\"ytick_6\">\r\n     <g id=\"line2d_12\">\r\n      <g>\r\n       <use style=\"stroke:#000000;stroke-width:0.8;\" x=\"49.190625\" xlink:href=\"#m4f99c7647b\" y=\"94.346581\"/>\r\n      </g>\r\n     </g>\r\n     <g id=\"text_12\">\r\n      <!-- 0.9100 -->\r\n      <g transform=\"translate(7.2 98.145799)scale(0.1 -0.1)\">\r\n       <use xlink:href=\"#DejaVuSans-48\"/>\r\n       <use x=\"63.623047\" xlink:href=\"#DejaVuSans-46\"/>\r\n       <use x=\"95.410156\" xlink:href=\"#DejaVuSans-57\"/>\r\n       <use x=\"159.033203\" xlink:href=\"#DejaVuSans-49\"/>\r\n       <use x=\"222.65625\" xlink:href=\"#DejaVuSans-48\"/>\r\n       <use x=\"286.279297\" xlink:href=\"#DejaVuSans-48\"/>\r\n      </g>\r\n     </g>\r\n    </g>\r\n    <g id=\"ytick_7\">\r\n     <g id=\"line2d_13\">\r\n      <g>\r\n       <use style=\"stroke:#000000;stroke-width:0.8;\" x=\"49.190625\" xlink:href=\"#m4f99c7647b\" y=\"69.261209\"/>\r\n      </g>\r\n     </g>\r\n     <g id=\"text_13\">\r\n      <!-- 0.9125 -->\r\n      <g transform=\"translate(7.2 73.060428)scale(0.1 -0.1)\">\r\n       <use xlink:href=\"#DejaVuSans-48\"/>\r\n       <use x=\"63.623047\" xlink:href=\"#DejaVuSans-46\"/>\r\n       <use x=\"95.410156\" xlink:href=\"#DejaVuSans-57\"/>\r\n       <use x=\"159.033203\" xlink:href=\"#DejaVuSans-49\"/>\r\n       <use x=\"222.65625\" xlink:href=\"#DejaVuSans-50\"/>\r\n       <use x=\"286.279297\" xlink:href=\"#DejaVuSans-53\"/>\r\n      </g>\r\n     </g>\r\n    </g>\r\n    <g id=\"ytick_8\">\r\n     <g id=\"line2d_14\">\r\n      <g>\r\n       <use style=\"stroke:#000000;stroke-width:0.8;\" x=\"49.190625\" xlink:href=\"#m4f99c7647b\" y=\"44.175838\"/>\r\n      </g>\r\n     </g>\r\n     <g id=\"text_14\">\r\n      <!-- 0.9150 -->\r\n      <g transform=\"translate(7.2 47.975056)scale(0.1 -0.1)\">\r\n       <use xlink:href=\"#DejaVuSans-48\"/>\r\n       <use x=\"63.623047\" xlink:href=\"#DejaVuSans-46\"/>\r\n       <use x=\"95.410156\" xlink:href=\"#DejaVuSans-57\"/>\r\n       <use x=\"159.033203\" xlink:href=\"#DejaVuSans-49\"/>\r\n       <use x=\"222.65625\" xlink:href=\"#DejaVuSans-53\"/>\r\n       <use x=\"286.279297\" xlink:href=\"#DejaVuSans-48\"/>\r\n      </g>\r\n     </g>\r\n    </g>\r\n    <g id=\"ytick_9\">\r\n     <g id=\"line2d_15\">\r\n      <g>\r\n       <use style=\"stroke:#000000;stroke-width:0.8;\" x=\"49.190625\" xlink:href=\"#m4f99c7647b\" y=\"19.090466\"/>\r\n      </g>\r\n     </g>\r\n     <g id=\"text_15\">\r\n      <!-- 0.9175 -->\r\n      <g transform=\"translate(7.2 22.889685)scale(0.1 -0.1)\">\r\n       <use xlink:href=\"#DejaVuSans-48\"/>\r\n       <use x=\"63.623047\" xlink:href=\"#DejaVuSans-46\"/>\r\n       <use x=\"95.410156\" xlink:href=\"#DejaVuSans-57\"/>\r\n       <use x=\"159.033203\" xlink:href=\"#DejaVuSans-49\"/>\r\n       <use x=\"222.65625\" xlink:href=\"#DejaVuSans-55\"/>\r\n       <use x=\"286.279297\" xlink:href=\"#DejaVuSans-53\"/>\r\n      </g>\r\n     </g>\r\n    </g>\r\n   </g>\r\n   <g id=\"line2d_16\">\r\n    <path clip-path=\"url(#p19e9971512)\" d=\"M 64.408807 62.237305 \r\nL 65.938272 34.141689 \r\nL 67.467738 66.250964 \r\nL 68.997203 22.100711 \r\nL 70.526669 40.162178 \r\nL 72.056134 63.24072 \r\nL 73.5856 68.257794 \r\nL 75.115065 51.199742 \r\nL 76.644531 78.291943 \r\nL 78.173996 17.083636 \r\nL 79.703462 41.165593 \r\nL 81.232927 70.264624 \r\nL 82.762393 57.220231 \r\nL 84.291858 83.309017 \r\nL 85.821324 100.36707 \r\nL 87.350789 55.213401 \r\nL 88.880255 50.196327 \r\nL 90.40972 76.285113 \r\nL 91.939186 92.339751 \r\nL 93.468651 71.268039 \r\nL 94.998117 27.117785 \r\nL 96.527583 70.264624 \r\nL 98.057048 86.319262 \r\nL 99.586514 100.36707 \r\nL 101.115979 44.175838 \r\nL 102.645445 127.459271 \r\nL 104.17491 65.24755 \r\nL 105.704376 30.12803 \r\nL 107.233841 54.209986 \r\nL 108.763307 20.093881 \r\nL 110.292772 39.158763 \r\nL 111.822238 91.336336 \r\nL 113.351703 91.336336 \r\nL 114.881169 87.322677 \r\nL 116.410634 58.223646 \r\nL 117.9401 146.524153 \r\nL 119.469565 71.268039 \r\nL 120.999031 49.192912 \r\nL 122.528496 53.206571 \r\nL 124.057962 37.151934 \r\nL 125.587427 52.203156 \r\nL 127.116893 57.220231 \r\nL 128.646358 68.257794 \r\nL 130.175824 99.363655 \r\nL 131.705289 54.209986 \r\nL 133.234755 90.332921 \r\nL 134.76422 64.244135 \r\nL 136.293686 60.230475 \r\nL 137.823151 27.117785 \r\nL 139.352617 55.213401 \r\nL 140.882082 66.250964 \r\nL 142.411548 31.131444 \r\nL 143.941013 30.12803 \r\nL 145.470479 58.223646 \r\nL 146.999944 49.192912 \r\nL 148.52941 90.332921 \r\nL 150.058875 102.373899 \r\nL 151.588341 131.47293 \r\nL 153.117806 59.22706 \r\nL 154.647272 41.165593 \r\nL 156.176737 72.271454 \r\nL 157.706203 49.192912 \r\nL 159.235668 96.35341 \r\nL 162.294599 39.158763 \r\nL 163.824065 36.148519 \r\nL 165.35353 64.244135 \r\nL 166.882996 122.442197 \r\nL 168.412461 119.431952 \r\nL 169.941927 75.281698 \r\nL 171.471392 72.271454 \r\nL 173.000858 59.22706 \r\nL 174.530323 29.124615 \r\nL 176.059789 172.61294 \r\nL 177.589255 73.274868 \r\nL 179.11872 88.326091 \r\nL 180.648186 130.469515 \r\nL 182.177651 127.459271 \r\nL 183.707117 111.404633 \r\nL 185.236582 143.513909 \r\nL 186.766048 72.271454 \r\nL 188.295513 98.36024 \r\nL 189.824979 84.312432 \r\nL 191.354444 110.401218 \r\nL 192.88391 107.390974 \r\nL 194.413375 73.274868 \r\nL 195.942841 103.377314 \r\nL 197.472306 57.220231 \r\nL 199.001772 100.36707 \r\nL 200.531237 138.496834 \r\nL 202.060703 137.493419 \r\nL 203.590168 122.442197 \r\nL 205.119634 123.445611 \r\nL 206.649099 120.435367 \r\nL 208.178565 82.305602 \r\nL 209.70803 101.370485 \r\nL 211.237496 87.322677 \r\nL 212.766961 78.291943 \r\nL 214.296427 137.493419 \r\nL 215.825892 110.401218 \r\nL 217.355358 108.394389 \r\nL 218.884823 104.380729 \r\nL 220.414289 128.462686 \r\nL 221.943754 108.394389 \r\nL 223.47322 94.346581 \r\nL 225.002685 105.384144 \r\nL 226.532151 60.230475 \r\nL 228.061616 107.390974 \r\nL 229.591082 144.517323 \r\nL 231.120547 81.302187 \r\nL 232.650013 91.336336 \r\nL 234.179478 77.288528 \r\nL 235.708944 53.206571 \r\nL 237.238409 117.425122 \r\nL 238.767875 89.329506 \r\nL 240.29734 80.298772 \r\nL 241.826806 69.261209 \r\nL 243.356271 87.322677 \r\nL 244.885737 57.220231 \r\nL 246.415202 110.401218 \r\nL 247.944668 82.305602 \r\nL 249.474133 98.36024 \r\nL 251.003599 124.449026 \r\nL 252.533064 120.435367 \r\nL 254.06253 79.295358 \r\nL 255.591995 114.414878 \r\nL 257.121461 115.418293 \r\nL 258.650927 71.268039 \r\nL 260.180392 87.322677 \r\nL 261.709858 111.404633 \r\nL 263.239323 100.36707 \r\nL 264.768789 59.22706 \r\nL 266.298254 99.363655 \r\nL 267.82772 86.319262 \r\nL 269.357185 115.418293 \r\nL 270.886651 72.271454 \r\nL 272.416116 69.261209 \r\nL 273.945582 99.363655 \r\nL 275.475047 105.384144 \r\nL 277.004513 93.343166 \r\nL 278.533978 91.336336 \r\nL 280.063444 146.524153 \r\nL 281.592909 100.36707 \r\nL 283.122375 89.329506 \r\nL 284.65184 133.47976 \r\nL 286.181306 71.268039 \r\nL 287.710771 148.530983 \r\nL 289.240237 77.288528 \r\nL 290.769702 130.469515 \r\nL 292.299168 71.268039 \r\nL 293.828633 88.326091 \r\nL 295.358099 141.507079 \r\nL 296.887564 152.544642 \r\nL 298.41703 72.271454 \r\nL 299.946495 129.466101 \r\nL 301.475961 138.496834 \r\nL 303.005426 111.404633 \r\nL 304.534892 80.298772 \r\nL 306.064357 76.285113 \r\nL 307.593823 81.302187 \r\nL 309.123288 128.462686 \r\nL 310.652754 67.254379 \r\nL 312.182219 85.315847 \r\nL 313.711685 74.278283 \r\nL 315.24115 103.377314 \r\nL 316.770616 96.35341 \r\nL 318.300081 109.397803 \r\nL 319.829547 146.524153 \r\nL 321.359012 160.571961 \r\nL 322.888478 82.305602 \r\nL 324.417943 61.23389 \r\nL 325.947409 106.387559 \r\nL 327.476874 95.349995 \r\nL 329.00634 102.373899 \r\nL 330.535805 64.244135 \r\nL 332.065271 111.404633 \r\nL 333.594736 89.329506 \r\nL 335.124202 126.455856 \r\nL 336.653667 137.493419 \r\nL 338.183133 118.428537 \r\nL 339.712599 81.302187 \r\nL 341.242064 122.442197 \r\nL 342.77153 67.254379 \r\nL 344.300995 98.36024 \r\nL 345.830461 139.500249 \r\nL 347.359926 121.438782 \r\nL 348.889392 94.346581 \r\nL 350.418857 131.47293 \r\nL 351.948323 196.694896 \r\nL 353.477788 177.630014 \r\nL 355.007254 88.326091 \r\nL 356.536719 120.435367 \r\nL 358.066185 182.647088 \r\nL 359.59565 100.36707 \r\nL 361.125116 123.445611 \r\nL 362.654581 92.339751 \r\nL 364.184047 160.571961 \r\nL 365.713512 117.425122 \r\nL 367.242978 107.390974 \r\nL 368.772443 214.756364 \r\nL 368.772443 214.756364 \r\n\" style=\"fill:none;stroke:#1f77b4;stroke-linecap:square;stroke-width:1.5;\"/>\r\n   </g>\r\n   <g id=\"patch_3\">\r\n    <path d=\"M 49.190625 224.64 \r\nL 49.190625 7.2 \r\n\" style=\"fill:none;stroke:#000000;stroke-linecap:square;stroke-linejoin:miter;stroke-width:0.8;\"/>\r\n   </g>\r\n   <g id=\"patch_4\">\r\n    <path d=\"M 383.990625 224.64 \r\nL 383.990625 7.2 \r\n\" style=\"fill:none;stroke:#000000;stroke-linecap:square;stroke-linejoin:miter;stroke-width:0.8;\"/>\r\n   </g>\r\n   <g id=\"patch_5\">\r\n    <path d=\"M 49.190625 224.64 \r\nL 383.990625 224.64 \r\n\" style=\"fill:none;stroke:#000000;stroke-linecap:square;stroke-linejoin:miter;stroke-width:0.8;\"/>\r\n   </g>\r\n   <g id=\"patch_6\">\r\n    <path d=\"M 49.190625 7.2 \r\nL 383.990625 7.2 \r\n\" style=\"fill:none;stroke:#000000;stroke-linecap:square;stroke-linejoin:miter;stroke-width:0.8;\"/>\r\n   </g>\r\n  </g>\r\n </g>\r\n <defs>\r\n  <clipPath id=\"p19e9971512\">\r\n   <rect height=\"217.44\" width=\"334.8\" x=\"49.190625\" y=\"7.2\"/>\r\n  </clipPath>\r\n </defs>\r\n</svg>\r\n",
      "image/png": "[encoded data removed]"
     },
     "metadata": {
      "needs_background": "light"
     }
    }
   ],
   "source": [
    "iter = np.arange(0, 0.1, 0.0005)\n",
    "scores = []\n",
    "lambda_ = 0\n",
    "for i in iter:\n",
    "    lambda_= i\n",
    "    print('lambda : ', lambda_)\n",
    "    X = np.hstack((np.ones((np.size(X_train, 0),1)),X_train))\n",
    "    T = y_train\n",
    "\n",
    "    K = np.size(T, 1)\n",
    "    M = np.size(X, 1)\n",
    "    W = np.zeros((M,K))\n",
    "\n",
    "    iterations = 50000\n",
    "    learning_rate = 0.01\n",
    "    \n",
    "\n",
    "    initial_cost = compute_cost(X, T, W, lambda_)\n",
    "\n",
    "    #print(\"Initial Cost is: {} \\n\".format(initial_cost[0][0]))\n",
    "\n",
    "    (cost_history, W_optimal) = batch_gd(X, T, W, learning_rate, iterations, 64, lambda_)\n",
    "\n",
    "    #print('End iterations')\n",
    "\n",
    "    ## Accuracy\n",
    "    X_ = np.hstack((np.ones((np.size(X_validation, 0),1)),X_validation))\n",
    "    T_ = y_validation\n",
    "    y_pred = predict(X_, W_optimal)\n",
    "    score = float(sum(y_pred == np.argmax(T_, axis=1)))/ float(len(y_validation))\n",
    "\n",
    "    scores.append(score)\n",
    "\n",
    "plt.plot(iter,scores)\n",
    "plt.show()"
   ]
  }
 ],
 "metadata": {
  "kernelspec": {
   "display_name": "Python 3",
   "language": "python",
   "name": "python3"
  },
  "language_info": {
   "codemirror_mode": {
    "name": "ipython",
    "version": 3
   },
   "file_extension": ".py",
   "mimetype": "text/x-python",
   "name": "python",
   "nbconvert_exporter": "python",
   "pygments_lexer": "ipython3",
   "version": "3.8.3-final"
  }
 },
 "nbformat": 4,
 "nbformat_minor": 4
}